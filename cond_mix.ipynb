{
 "cells": [
  {
   "cell_type": "code",
   "execution_count": 9,
   "metadata": {},
   "outputs": [],
   "source": [
    "import pandas as pd\n",
    "import math\n",
    "import numpy as np\n",
    "import statsmodels.api as sm\n",
    "import matplotlib.pyplot as plt\n",
    "from scipy import stats\n",
    "from sklearn import mixture"
   ]
  },
  {
   "cell_type": "code",
   "execution_count": 10,
   "metadata": {},
   "outputs": [
    {
     "name": "stdout",
     "output_type": "stream",
     "text": [
      "Index([u'ROW', u'SYSTEM', u'COUNTY', u'MRKTCODE', u'VENDOR', u'MONTH', u'DAY',\n",
      "       u'YEAR', u'LFC', u'LFW', u'WW', u'WC', u'QLFC', u'QLFW', u'QWW', u'QWC',\n",
      "       u'ESTQTY', u'QUANTITY', u'FMOZONE', u'DEL', u'ESC', u'COOLER', u'MILES',\n",
      "       u'WIN', u'NUMSCHL', u'NUMWIN', u'I', u'GAS', u'FMO', u'N', u'BACKLOG'],\n",
      "      dtype='object')\n"
     ]
    }
   ],
   "source": [
    "#load data\n",
    "data = pd.read_csv('data/milk_join.csv')\n",
    "data.set_index('ROW')\n",
    "\n",
    "print data.columns"
   ]
  },
  {
   "cell_type": "code",
   "execution_count": 11,
   "metadata": {},
   "outputs": [
    {
     "name": "stdout",
     "output_type": "stream",
     "text": [
      "WW         -1.768216\n",
      "FMO         2.672613\n",
      "ESC         0.737441\n",
      "NUMSCHL    12.544541\n",
      "MILES       3.456749\n",
      "COOLER      0.736772\n",
      "GAS         2.864354\n",
      "DEL         4.262827\n",
      "ESTQTY     12.857605\n",
      "NOSTOP      3.346037\n",
      "dtype: float64\n"
     ]
    }
   ],
   "source": [
    "#ESC, COOLER ,MILES, GAS, DEL, ESTQTY\n",
    "reg1 = data[['WW', 'FMO','ESC', 'NUMSCHL','MILES','COOLER', 'GAS','DEL','ESTQTY']].dropna()\n",
    "\n",
    "#make a little better\n",
    "reg1['NUMSCHL'] = np.maximum(reg1['NUMSCHL'],1)\n",
    "reg1['NOSTOP'] = reg1['NUMSCHL']*reg1['DEL']\n",
    "reg1['MILES'] =reg1['MILES']+1\n",
    "reg1 = reg1[reg1['WW']<=.3]\n",
    "\n",
    "#log scale\n",
    "reg1[['WW', 'FMO', 'MILES', 'GAS','NOSTOP', 'ESTQTY']] = np.log(\n",
    "                                            reg1[['WW', 'FMO', 'MILES', 'GAS', 'NOSTOP', 'ESTQTY']])\n",
    "\n",
    "print reg1.mean()"
   ]
  },
  {
   "cell_type": "code",
   "execution_count": 39,
   "metadata": {
    "scrolled": true
   },
   "outputs": [
    {
     "name": "stdout",
     "output_type": "stream",
     "text": [
      "                            OLS Regression Results                            \n",
      "==============================================================================\n",
      "Dep. Variable:                     WW   R-squared:                       0.034\n",
      "Model:                            OLS   Adj. R-squared:                  0.034\n",
      "Method:                 Least Squares   F-statistic:                     138.9\n",
      "Date:                Sun, 21 Apr 2019   Prob (F-statistic):           1.60e-31\n",
      "Time:                        19:30:51   Log-Likelihood:                 3793.9\n",
      "No. Observations:                3925   AIC:                            -7584.\n",
      "Df Residuals:                    3923   BIC:                            -7571.\n",
      "Df Model:                           1                                         \n",
      "Covariance Type:            nonrobust                                         \n",
      "==============================================================================\n",
      "                 coef    std err          t      P>|t|      [0.025      0.975]\n",
      "------------------------------------------------------------------------------\n",
      "const         -2.6225      0.071    -37.034      0.000      -2.761      -2.484\n",
      "FMO            0.3127      0.027     11.784      0.000       0.261       0.365\n",
      "==============================================================================\n",
      "Omnibus:                      556.430   Durbin-Watson:                   1.031\n",
      "Prob(Omnibus):                  0.000   Jarque-Bera (JB):             2788.166\n",
      "Skew:                          -0.585   Prob(JB):                         0.00\n",
      "Kurtosis:                       6.960   Cond. No.                         147.\n",
      "==============================================================================\n",
      "\n",
      "Warnings:\n",
      "[1] Standard Errors assume that the covariance matrix of the errors is correctly specified.\n"
     ]
    }
   ],
   "source": [
    "reg1 = data[['WW','FMO']].dropna()\n",
    "reg1 = reg1[reg1['WW']<.4]\n",
    "reg1 = np.log(reg1)\n",
    "model = sm.OLS(reg1['WW'],sm.add_constant(reg1['FMO']))\n",
    "result = model.fit()\n",
    "print result.summary()"
   ]
  },
  {
   "cell_type": "code",
   "execution_count": 40,
   "metadata": {},
   "outputs": [
    {
     "name": "stdout",
     "output_type": "stream",
     "text": [
      "Means: [ 0.02869502 -0.04314301]\n",
      "Var: [0.00202189 0.01507081]\n",
      "Weights: [0.6005595 0.3994405]\n"
     ]
    },
    {
     "data": {
      "image/png": "[encoded data removed]",
      "text/plain": [
       "<Figure size 432x288 with 1 Axes>"
      ]
     },
     "metadata": {},
     "output_type": "display_data"
    }
   ],
   "source": [
    "#fit mixture model\n",
    "g = mixture.GaussianMixture(n_components=2)\n",
    "g.fit(np.array([result.resid]).transpose())\n",
    "\n",
    "\n",
    "print 'Means: %s'%g.means_[:,0]\n",
    "print 'Var: %s'%g.covariances_[:,0,0]\n",
    "print 'Weights: %s'%g.weights_\n",
    "\n",
    "#do kernel density estimation\n",
    "dens = sm.nonparametric.KDEUnivariate(result.resid)\n",
    "dens.fit()\n",
    "\n",
    "\n",
    "#graph kernel with mixture components\n",
    "comp1 = g.weights_[0]*stats.norm.pdf(dens.support,g.means_[0,0],g.covariances_[0,0]**.5)\n",
    "comp2 = g.weights_[1]*stats.norm.pdf(dens.support,g.means_[1,0],g.covariances_[1,0]**.5)\n",
    "\n",
    "plt.plot(dens.support, comp1, label='Mixture 1')\n",
    "plt.plot(dens.support, comp2, label='Mixture 2')\n",
    "plt.plot(dens.support, dens.density, label='KDE')\n",
    "plt.legend()\n",
    "plt.show()\n"
   ]
  },
  {
   "cell_type": "code",
   "execution_count": 32,
   "metadata": {},
   "outputs": [
    {
     "name": "stdout",
     "output_type": "stream",
     "text": [
      "-1.78932530075667\n",
      "Means: [ 0.02191804 -0.05777944]\n",
      "Var: [0.00301345 0.02171865]\n",
      "Weights: [0.72498447 0.27501553]\n"
     ]
    },
    {
     "data": {
      "image/png": "[encoded data removed]",
      "text/plain": [
       "<Figure size 432x288 with 1 Axes>"
      ]
     },
     "metadata": {},
     "output_type": "display_data"
    }
   ],
   "source": [
    "bids = np.array(data['WW'].dropna())\n",
    "\n",
    "#log transformation\n",
    "lbids = np.log(bids[ bids<=.4 ])\n",
    "print lbids.mean()\n",
    "lbids = lbids - lbids.mean()\n",
    "\n",
    "\n",
    "#fit mixture model\n",
    "g = mixture.GaussianMixture(n_components=2)\n",
    "g.fit(lbids.reshape(lbids.shape[0],1))\n",
    "\n",
    "\n",
    "print 'Means: %s'%g.means_[:,0]\n",
    "print 'Var: %s'%g.covariances_[:,0,0]\n",
    "print 'Weights: %s'%g.weights_\n",
    "\n",
    "#do kernel density estimation\n",
    "dens = sm.nonparametric.KDEUnivariate(lbids)\n",
    "dens.fit()\n",
    "\n",
    "\n",
    "#graph kernel with mixture components\n",
    "comp1 = g.weights_[0]*stats.norm.pdf(dens.support,g.means_[0,0],g.covariances_[0,0]**.5)\n",
    "comp2 = g.weights_[1]*stats.norm.pdf(dens.support,g.means_[1,0],g.covariances_[1,0]**.5)\n",
    "\n",
    "plt.plot(dens.support, comp1, label='Mixture 1')\n",
    "plt.plot(dens.support, comp2, label='Mixture 2')\n",
    "plt.plot(dens.support, dens.density, label='KDE')\n",
    "plt.legend()\n",
    "plt.show()\n"
   ]
  },
  {
   "cell_type": "code",
   "execution_count": null,
   "metadata": {},
   "outputs": [],
   "source": []
  }
 ],
 "metadata": {
  "kernelspec": {
   "display_name": "Python 2",
   "language": "python",
   "name": "python2"
  },
  "language_info": {
   "codemirror_mode": {
    "name": "ipython",
    "version": 2
   },
   "file_extension": ".py",
   "mimetype": "text/x-python",
   "name": "python",
   "nbconvert_exporter": "python",
   "pygments_lexer": "ipython2",
   "version": "2.7.15"
  }
 },
 "nbformat": 4,
 "nbformat_minor": 2
}
