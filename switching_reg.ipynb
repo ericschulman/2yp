{
 "cells": [
  {
   "cell_type": "code",
   "execution_count": 2,
   "metadata": {},
   "outputs": [],
   "source": [
    "import pandas as pd\n",
    "import math\n",
    "import numpy as np\n",
    "import statsmodels.api as sm\n",
    "from statsmodels.base.model import GenericLikelihoodModel\n",
    "import matplotlib.pyplot as plt\n",
    "from scipy import stats"
   ]
  },
  {
   "cell_type": "code",
   "execution_count": 10,
   "metadata": {},
   "outputs": [],
   "source": [
    "#generate some fake data\n",
    "\n",
    "n = 1000\n",
    "beta01, beta11 = 5,-3\n",
    "beta02, beta12 = 2, 3\n",
    "\n",
    "#set up regression mixture\n",
    "x1 = np.random.uniform(0, 10, size=300)\n",
    "x2 = np.random.uniform(0, 2, size=600)\n",
    "\n",
    "y1 = beta01 + beta11*x1 + np.random.normal(size=300)\n",
    "y2 = beta02 + beta12*x2 + np.random.normal(size=600)\n",
    "\n",
    "x = np.concatenate([x1, x2])\n",
    "y = np.concatenate([y1, y2])"
   ]
  },
  {
   "cell_type": "code",
   "execution_count": 11,
   "metadata": {},
   "outputs": [
    {
     "name": "stdout",
     "output_type": "stream",
     "text": [
      "[EM convergence achieved] \n",
      "\n",
      "========================================================\n",
      "weights: [0.57214033 0.42785967]\n",
      "========================================================\n",
      "\n",
      "Optimization terminated successfully.\n",
      "         Current function value: 1.997795\n",
      "         Iterations: 325\n",
      "         Function evaluations: 552\n",
      "                               Clusters Results                               \n",
      "==============================================================================\n",
      "Dep. Variable:                      y   Log-Likelihood:                -1798.0\n",
      "Model:                       Clusters   AIC:                             3600.\n",
      "Method:            Maximum Likelihood   BIC:                             3610.\n",
      "Date:                Sun, 21 Apr 2019                                         \n",
      "Time:                        19:41:47                                         \n",
      "No. Observations:                 900                                         \n",
      "Df Residuals:                     898                                         \n",
      "Df Model:                           1                                         \n",
      "==============================================================================\n",
      "                 coef    std err          z      P>|z|      [0.025      0.975]\n",
      "------------------------------------------------------------------------------\n",
      "const0         5.0413      0.119     42.327      0.000       4.808       5.275\n",
      "x10           -2.9987      0.021   -144.898      0.000      -3.039      -2.958\n",
      "const1         1.9715      0.110     17.844      0.000       1.755       2.188\n",
      "x11            3.0372      0.084     36.205      0.000       2.873       3.202\n",
      "==============================================================================\n"
     ]
    }
   ],
   "source": [
    "class Clusters(GenericLikelihoodModel):\n",
    "    \n",
    "    def __init__(self, endog, exog, ncomp=2):\n",
    "        super(Clusters, self).__init__(endog, exog)\n",
    "        \n",
    "        nobs, k = self.exog.shape\n",
    "        self.ncomp = ncomp\n",
    "        self.nparams = k*ncomp #hard coded for now\n",
    "        self.weights = np.ones(ncomp)/(1.*ncomp)\n",
    "\n",
    "        param_names = []\n",
    "        for comp in range(ncomp):\n",
    "            for name in self.data.xnames:\n",
    "                param_names.append(name+str(comp))\n",
    "        self.data.xnames = param_names\n",
    "        \n",
    "    \n",
    "    def nloglikeobs(self, params, v=False):\n",
    "        \"\"\"do maximum likelihood estimation\"\"\"\n",
    "        nobs, k = self.exog.shape\n",
    "        comp_likes = []\n",
    "        \n",
    "        for comp in range(self.ncomp):\n",
    "            \n",
    "            beta = params[2*comp: (k + 2*comp)]\n",
    "            beta = np.tile(beta,nobs).reshape(nobs, k)\n",
    "            resid = self.endog - (beta*self.exog).sum(axis=1)\n",
    "            \n",
    "            like = stats.norm.pdf(resid, loc=0, scale=1)\n",
    "            comp_likes.append(like)\n",
    "            \n",
    "            \n",
    "        weights = np.tile(self.weights, nobs).reshape(nobs, self.ncomp)\n",
    "        comp_likes = weights*np.array(comp_likes).transpose()\n",
    "        \n",
    "        return -np.log(comp_likes.sum(axis=1)).sum()\n",
    "    \n",
    "    \n",
    "    def fit(self, start_params=None, maxiter=1000, maxfun=5000, **kwds):\n",
    "        \"\"\"print that we did it\"\"\"\n",
    "        tol = 1e-10\n",
    "        nobs, k = self.exog.shape\n",
    "        \n",
    "        #loop variables\n",
    "        maxiter = 50\n",
    "        diff = 1\n",
    "        model = None\n",
    "        \n",
    "        while diff > tol and maxiter >=0 :\n",
    "            model = super(Clusters, self).fit(disp=False)\n",
    "            weights = []\n",
    "            \n",
    "            #recompute weights\n",
    "            for comp in range(self.ncomp):\n",
    "                beta = model.params[2*comp: (k + 2*comp)]\n",
    "                beta = np.tile(beta,nobs).reshape(nobs, k)\n",
    "                resid = self.endog - (beta*self.exog).sum(axis=1)\n",
    "                weights.append( stats.norm.pdf(resid, loc=0, scale=1).mean() )\n",
    "            \n",
    "            #update loop variables\n",
    "            weights = np.array(weights)/np.array(weights).sum()\n",
    "            diff = np.array(weights).mean()- self.weights.mean()\n",
    "            maxiter = maxiter-1\n",
    "            \n",
    "            self.weights = weights\n",
    "        \n",
    "        if maxiter > 0:\n",
    "            print '[EM convergence achieved] \\n'\n",
    "            print'========================================================'\n",
    "            print 'weights: %s'%self.weights\n",
    "            print'========================================================\\n'\n",
    "        \n",
    "        model = super(Clusters, self).fit()\n",
    "        return model\n",
    "        \n",
    "        \n",
    "model = Clusters(y,sm.add_constant(x))\n",
    "result = model.fit()\n",
    "\n",
    "print result.summary()\n"
   ]
  },
  {
   "cell_type": "code",
   "execution_count": 5,
   "metadata": {},
   "outputs": [
    {
     "name": "stdout",
     "output_type": "stream",
     "text": [
      "Index([u'ROW', u'SYSTEM', u'COUNTY', u'MRKTCODE', u'VENDOR', u'MONTH', u'DAY',\n",
      "       u'YEAR', u'LFC', u'LFW', u'WW', u'WC', u'QLFC', u'QLFW', u'QWW', u'QWC',\n",
      "       u'ESTQTY', u'QUANTITY', u'FMOZONE', u'DEL', u'ESC', u'COOLER', u'MILES',\n",
      "       u'WIN', u'NUMSCHL', u'NUMWIN', u'I', u'GAS', u'FMO', u'N', u'BACKLOG'],\n",
      "      dtype='object')\n"
     ]
    }
   ],
   "source": [
    "#load data\n",
    "data = pd.read_csv('data/milk_join.csv')\n",
    "data.set_index('ROW')\n",
    "\n",
    "print data.columns"
   ]
  },
  {
   "cell_type": "code",
   "execution_count": 9,
   "metadata": {},
   "outputs": [
    {
     "name": "stdout",
     "output_type": "stream",
     "text": [
      "[EM convergence achieved] \n",
      "\n",
      "========================================================\n",
      "weights: [0.5 0.5]\n",
      "========================================================\n",
      "\n",
      "Optimization terminated successfully.\n",
      "         Current function value: 0.923174\n",
      "         Iterations: 359\n",
      "         Function evaluations: 606\n",
      "                               Clusters Results                               \n",
      "==============================================================================\n",
      "Dep. Variable:                     WW   Log-Likelihood:                -3623.5\n",
      "Model:                       Clusters   AIC:                             7251.\n",
      "Method:            Maximum Likelihood   BIC:                             7263.\n",
      "Date:                Sun, 21 Apr 2019                                         \n",
      "Time:                        19:39:40                                         \n",
      "No. Observations:                3925                                         \n",
      "Df Residuals:                    3923                                         \n",
      "Df Model:                           1                                         \n",
      "==============================================================================\n",
      "                 coef    std err          z      P>|z|      [0.025      0.975]\n",
      "------------------------------------------------------------------------------\n",
      "const0        -2.6225      1.098     -2.388      0.017      -4.775      -0.470\n",
      "FMO0           0.3127      0.412      0.760      0.447      -0.494       1.119\n",
      "const1        -2.6225      1.098     -2.388      0.017      -4.775      -0.470\n",
      "FMO1           0.3127      0.412      0.760      0.447      -0.494       1.119\n",
      "==============================================================================\n"
     ]
    }
   ],
   "source": [
    "reg1 = data[['WW','FMO']].dropna()\n",
    "reg1 = reg1[reg1['WW']<.4]\n",
    "reg1 = np.log(reg1)\n",
    "\n",
    "\n",
    "model = Clusters(reg1['WW'],sm.add_constant(reg1['FMO']))\n",
    "result = model.fit()\n",
    "print result.summary()"
   ]
  },
  {
   "cell_type": "code",
   "execution_count": 5,
   "metadata": {},
   "outputs": [
    {
     "name": "stdout",
     "output_type": "stream",
     "text": [
      "WW         -1.768216\n",
      "FMO         2.672613\n",
      "ESC         0.737441\n",
      "NUMSCHL    12.544541\n",
      "MILES       3.456749\n",
      "COOLER      0.736772\n",
      "GAS         2.864354\n",
      "DEL         4.262827\n",
      "ESTQTY     12.857605\n",
      "NOSTOP      3.346037\n",
      "dtype: float64\n"
     ]
    }
   ],
   "source": [
    "#ESC, COOLER ,MILES, GAS, DEL, ESTQTY\n",
    "reg1 = data[['WW', 'FMO','ESC', 'NUMSCHL','MILES','COOLER', 'GAS','DEL','ESTQTY']].dropna()\n",
    "\n",
    "#make a little better\n",
    "reg1['NUMSCHL'] = np.maximum(reg1['NUMSCHL'],1)\n",
    "reg1['NOSTOP'] = reg1['NUMSCHL']*reg1['DEL']\n",
    "reg1['MILES'] =reg1['MILES']+1\n",
    "reg1 = reg1[reg1['WW']<=.3]\n",
    "\n",
    "#log scale\n",
    "reg1[['WW', 'FMO', 'MILES', 'GAS','NOSTOP', 'ESTQTY']] = np.log(\n",
    "                                            reg1[['WW', 'FMO', 'MILES', 'GAS', 'NOSTOP', 'ESTQTY']])\n",
    "\n",
    "print reg1.mean()"
   ]
  },
  {
   "cell_type": "code",
   "execution_count": 8,
   "metadata": {},
   "outputs": [
    {
     "name": "stdout",
     "output_type": "stream",
     "text": [
      "                            OLS Regression Results                            \n",
      "==============================================================================\n",
      "Dep. Variable:                     WW   R-squared:                       0.051\n",
      "Model:                            OLS   Adj. R-squared:                  0.048\n",
      "Method:                 Least Squares   F-statistic:                     16.07\n",
      "Date:                Sun, 21 Apr 2019   Prob (F-statistic):           1.85e-15\n",
      "Time:                        18:26:34   Log-Likelihood:                 1957.9\n",
      "No. Observations:                1493   AIC:                            -3904.\n",
      "Df Residuals:                    1487   BIC:                            -3872.\n",
      "Df Model:                           5                                         \n",
      "Covariance Type:            nonrobust                                         \n",
      "==============================================================================\n",
      "                 coef    std err          t      P>|t|      [0.025      0.975]\n",
      "------------------------------------------------------------------------------\n",
      "const         -2.4310      0.097    -25.003      0.000      -2.622      -2.240\n",
      "ESC           -0.0067      0.004     -1.724      0.085      -0.014       0.001\n",
      "COOLER         0.0101      0.004      2.386      0.017       0.002       0.018\n",
      "FMO            0.2367      0.032      7.435      0.000       0.174       0.299\n",
      "NOSTOP         0.0072      0.005      1.593      0.111      -0.002       0.016\n",
      "ESTQTY         0.0003      0.005      0.059      0.953      -0.009       0.009\n",
      "==============================================================================\n",
      "Omnibus:                      261.932   Durbin-Watson:                   1.517\n",
      "Prob(Omnibus):                  0.000   Jarque-Bera (JB):             2598.166\n",
      "Skew:                           0.503   Prob(JB):                         0.00\n",
      "Kurtosis:                       9.384   Cond. No.                         822.\n",
      "==============================================================================\n",
      "\n",
      "Warnings:\n",
      "[1] Standard Errors assume that the covariance matrix of the errors is correctly specified.\n"
     ]
    }
   ],
   "source": [
    "model = sm.OLS(reg1['WW'],sm.add_constant(reg1[['ESC', 'COOLER', 'FMO','NOSTOP','ESTQTY']]))\n",
    "result = model.fit()\n",
    "print result.summary()"
   ]
  },
  {
   "cell_type": "code",
   "execution_count": 111,
   "metadata": {},
   "outputs": [
    {
     "name": "stderr",
     "output_type": "stream",
     "text": [
      "/home/erichschulman/anaconda2/lib/python2.7/site-packages/statsmodels/base/model.py:488: HessianInversionWarning: Inverting hessian failed, no bse or cov_params available\n",
      "  'available', HessianInversionWarning)\n"
     ]
    },
    {
     "name": "stdout",
     "output_type": "stream",
     "text": [
      "[EM convergence achieved] \n",
      "\n",
      "========================================================\n",
      "weights: [0.4997528 0.5002472]\n",
      "========================================================\n",
      "\n",
      "Optimization terminated successfully.\n",
      "         Current function value: 0.921971\n",
      "         Iterations: 390\n",
      "         Function evaluations: 619\n",
      "                               Clusters Results                               \n",
      "==============================================================================\n",
      "Dep. Variable:                     WW   Log-Likelihood:                -1376.5\n",
      "Model:                       Clusters   AIC:                             2759.\n",
      "Method:            Maximum Likelihood   BIC:                             2775.\n",
      "Date:                Sun, 21 Apr 2019                                         \n",
      "Time:                        18:25:38                                         \n",
      "No. Observations:                1493                                         \n",
      "Df Residuals:                    1490                                         \n",
      "Df Model:                           2                                         \n",
      "==============================================================================\n",
      "                 coef    std err          z      P>|z|      [0.025      0.975]\n",
      "------------------------------------------------------------------------------\n",
      "const0         0.0627        nan        nan        nan         nan         nan\n",
      "ESC0          -0.0013        nan        nan        nan         nan         nan\n",
      "FMO0          -0.6844        nan        nan        nan         nan         nan\n",
      "const1         0.0006        nan        nan        nan         nan         nan\n",
      "ESC1          -0.4056        nan        nan        nan         nan         nan\n",
      "FMO1           1.9037        nan        nan        nan         nan         nan\n",
      "==============================================================================\n"
     ]
    },
    {
     "name": "stderr",
     "output_type": "stream",
     "text": [
      "/home/erichschulman/anaconda2/lib/python2.7/site-packages/statsmodels/base/model.py:488: HessianInversionWarning: Inverting hessian failed, no bse or cov_params available\n",
      "  'available', HessianInversionWarning)\n"
     ]
    }
   ],
   "source": [
    "#working on clusters\n",
    "\n",
    "model = Clusters(reg1['WW'],sm.add_constant(reg1[['ESC', 'FMO']]))\n",
    "result = model.fit()\n",
    "print result.summary()"
   ]
  },
  {
   "cell_type": "code",
   "execution_count": null,
   "metadata": {},
   "outputs": [],
   "source": []
  }
 ],
 "metadata": {
  "kernelspec": {
   "display_name": "Python 2",
   "language": "python",
   "name": "python2"
  },
  "language_info": {
   "codemirror_mode": {
    "name": "ipython",
    "version": 2
   },
   "file_extension": ".py",
   "mimetype": "text/x-python",
   "name": "python",
   "nbconvert_exporter": "python",
   "pygments_lexer": "ipython2",
   "version": "2.7.15"
  }
 },
 "nbformat": 4,
 "nbformat_minor": 2
}
