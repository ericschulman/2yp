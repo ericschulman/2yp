{
 "cells": [
  {
   "cell_type": "code",
   "execution_count": 13,
   "metadata": {},
   "outputs": [],
   "source": [
    "import pandas as pd\n",
    "import math\n",
    "import numpy as np\n",
    "import statsmodels.api as sm\n",
    "from statsmodels.base.model import GenericLikelihoodModel\n",
    "import matplotlib.pyplot as plt\n",
    "from scipy import stats\n",
    "\n",
    "from statsmodels.tsa.regime_switching.markov_autoregression import MarkovAutoregression\n",
    "from statsmodels.tsa.regime_switching.markov_regression import MarkovRegression"
   ]
  },
  {
   "cell_type": "code",
   "execution_count": 3,
   "metadata": {},
   "outputs": [],
   "source": [
    "#generate some fake data\n",
    "\n",
    "n = 1000\n",
    "beta01, beta11 = 5,-3\n",
    "beta02, beta12 = 2, 4\n",
    "\n",
    "#set up regression mixture\n",
    "x1 = np.random.uniform(0, 10, size=400)\n",
    "x2 = np.random.uniform(0, 10, size=600)\n",
    "\n",
    "y1 = beta01 + beta11*x1 + np.random.normal(scale=2.0, size=400)\n",
    "y2 = beta02 + beta12*x2 + np.random.normal(scale=4.0,size=600)\n",
    "\n",
    "x = np.concatenate([x1, x2])\n",
    "y = np.concatenate([y1, y2])\n",
    "\n",
    "\n",
    "#set up 2 component mixture\n",
    "a1 = np.random.normal(0, 1, size=600)\n",
    "a2 = np.random.normal(5, 3, size=400)\n",
    "a = np.concatenate([a1,a2])"
   ]
  },
  {
   "cell_type": "code",
   "execution_count": 15,
   "metadata": {},
   "outputs": [
    {
     "name": "stdout",
     "output_type": "stream",
     "text": [
      "                        Markov Switching Model Results                        \n",
      "==============================================================================\n",
      "Dep. Variable:                      y   No. Observations:                 1000\n",
      "Model:               MarkovRegression   Log Likelihood               -2555.971\n",
      "Date:                Wed, 24 Apr 2019   AIC                           5127.943\n",
      "Time:                        08:49:53   BIC                           5167.205\n",
      "Sample:                             0   HQIC                          5142.865\n",
      "                               - 1000                                         \n",
      "Covariance Type:               approx                                         \n",
      "                             Regime 0 parameters                              \n",
      "==============================================================================\n",
      "                 coef    std err          z      P>|z|      [0.025      0.975]\n",
      "------------------------------------------------------------------------------\n",
      "const          5.0242      0.197     25.444      0.000       4.637       5.411\n",
      "x1            -3.0143      0.034    -89.041      0.000      -3.081      -2.948\n",
      "sigma2         4.0103      0.284     14.131      0.000       3.454       4.567\n",
      "                             Regime 1 parameters                              \n",
      "==============================================================================\n",
      "                 coef    std err          z      P>|z|      [0.025      0.975]\n",
      "------------------------------------------------------------------------------\n",
      "const          2.0621      0.347      5.941      0.000       1.382       2.742\n",
      "x1             3.9460      0.059     67.307      0.000       3.831       4.061\n",
      "sigma2        17.0585      0.985     17.327      0.000      15.129      18.988\n",
      "                         Regime transition parameters                         \n",
      "==============================================================================\n",
      "                 coef    std err          z      P>|z|      [0.025      0.975]\n",
      "------------------------------------------------------------------------------\n",
      "p[0->0]        0.9989      0.001    698.492      0.000       0.996       1.002\n",
      "p[1->0]        0.0009      0.001      0.843      0.399      -0.001       0.003\n",
      "==============================================================================\n",
      "\n",
      "Warnings:\n",
      "[1] Covariance matrix calculated using numerical (complex-step) differentiation.\n"
     ]
    }
   ],
   "source": [
    "model = MarkovRegression(endog=y, exog=sm.add_constant(x), k_regimes=2, order=0,\n",
    "                             trend='nc',switching_exog=True, switching_variance=True)\n",
    "result = model.fit()\n",
    "print result.summary()"
   ]
  },
  {
   "cell_type": "code",
   "execution_count": null,
   "metadata": {},
   "outputs": [],
   "source": [
    "class Clusters(GenericLikelihoodModel):\n",
    "    \n",
    "    def __init__(self, endog, exog, ncomp=2, switch_var=True):\n",
    "        super(Clusters, self).__init__(endog, exog)\n",
    "        \n",
    "        nobs, k = self.exog.shape\n",
    "        self.ncomp = ncomp\n",
    "        self.nparams = k*ncomp + 2\n",
    "        #self.weights = np.tile(np.ones(ncomp)/(1.*ncomp),(nobs,1))\n",
    "        \n",
    "        #random start\n",
    "        np.random.seed(0)\n",
    "        weights = np.random.uniform(size=(nobs,ncomp))\n",
    "        denom = np.repeat(weights.sum(axis= 1),self.ncomp).reshape(nobs,ncomp)\n",
    "        self.weights = (weights/denom)\n",
    "        \n",
    "        #adjust param names\n",
    "        param_names = []\n",
    "        for comp in range(ncomp):\n",
    "            for name in self.data.xnames:\n",
    "                param_names.append(name+str(comp))\n",
    "            param_names.append('sigma'+str(comp))\n",
    "        self.data.xnames = param_names\n",
    "     \n",
    "    \n",
    "    def nloglikeobs(self, params, v=False):\n",
    "        \"\"\"do maximum likelihood estimation\"\"\"\n",
    "        nobs, k = self.exog.shape\n",
    "        comp_likes = []\n",
    "        for comp in range(self.ncomp):\n",
    "            comp_params = params[comp*(k+1): (comp+1)*(k + 1)]\n",
    "            beta = comp_params[:-1]\n",
    "            sigma = comp_params[-1]\n",
    "            \n",
    "            beta = np.tile(beta,nobs).reshape(nobs,k)\n",
    "            means = (beta*self.exog).sum(axis=1) \n",
    "            like = stats.norm.logpdf(self.endog- means, loc=0, scale=sigma)\n",
    "            comp_likes.append(like)\n",
    "\n",
    "        comp_likes = np.array(comp_likes).transpose()\n",
    "        comp_likes = self.weights*comp_likes\n",
    "        \n",
    "        return -comp_likes.sum().sum()\n",
    "    \n",
    "    \n",
    "    \n",
    "    def fit(self, start_params=None, maxiter=1000, maxfun=5000, **kwds):\n",
    "        \"\"\"print that we did it\"\"\"\n",
    "        tol = 1e-8\n",
    "        nobs, k = self.exog.shape\n",
    "        \n",
    "        #loop variables\n",
    "        maxiter = 25\n",
    "        diff = 1\n",
    "        model = None\n",
    "        \n",
    "        while diff > tol and maxiter >=0 :\n",
    "\n",
    "            start = np.linspace(1.,5., len(self.data.xnames))\n",
    "            model = super(Clusters, self).fit(disp=False, start_params=start,\n",
    "                                             method='nm', maxiter=200, full_output=True,  retall=True)\n",
    "            weights = []\n",
    "            \n",
    "            #recompute weights\n",
    "            for comp in range(self.ncomp):\n",
    "                comp_params = model.params[comp*(k+1): (comp+1)*(k + 1)]\n",
    "                beta = comp_params[:-1]\n",
    "                sigma = comp_params[-1]\n",
    "                \n",
    "                beta = np.tile(beta,nobs).reshape(nobs, k)\n",
    "                mean = (beta*self.exog).sum(axis=1)\n",
    "                weights.append( stats.norm.pdf(self.endog - mean, loc=0, scale=sigma) )\n",
    "\n",
    "            \n",
    "            #update loop variables\n",
    "            weights = np.array(weights).transpose()\n",
    "            denom = np.repeat(weights.sum(axis= 1),self.ncomp).reshape(nobs,self.ncomp)\n",
    "            weights = (weights/denom)\n",
    "            \n",
    "            \n",
    "            #this is hacky\n",
    "            diff = np.sort(weights, axis=1)- np.sort(self.weights, axis=1)\n",
    "            diff = np.abs(diff).mean()\n",
    "            \n",
    "            maxiter = maxiter-1\n",
    "            self.weights = weights\n",
    "        \n",
    "        if maxiter > 0:\n",
    "            print '[EM convergence achieved] \\n'\n",
    "            print'========================================================'\n",
    "        \n",
    "        print 'weights: %s'%self.weights.mean(axis=0)\n",
    "        print'========================================================\\n'\n",
    "        \n",
    "        return model\n",
    " \n",
    "        \n",
    "#test case #1 - easy 2 component mixture\n",
    "model = Clusters(y, sm.add_constant(x))\n",
    "                               \n",
    "result = model.fit()\n",
    "print result.summary()\n",
    "print result.mle_retvals"
   ]
  },
  {
   "cell_type": "code",
   "execution_count": 134,
   "metadata": {},
   "outputs": [
    {
     "name": "stdout",
     "output_type": "stream",
     "text": [
      "['__class__', '__cmp__', '__contains__', '__delattr__', '__delitem__', '__doc__', '__eq__', '__format__', '__ge__', '__getattribute__', '__getitem__', '__gt__', '__hash__', '__init__', '__iter__', '__le__', '__len__', '__lt__', '__ne__', '__new__', '__reduce__', '__reduce_ex__', '__repr__', '__setattr__', '__setitem__', '__sizeof__', '__str__', '__subclasshook__', 'clear', 'copy', 'fromkeys', 'get', 'has_key', 'items', 'iteritems', 'iterkeys', 'itervalues', 'keys', 'pop', 'popitem', 'setdefault', 'update', 'values', 'viewitems', 'viewkeys', 'viewvalues']\n",
      "dict_values([False, 2, 318, 2.6198274605307135, 200])\n"
     ]
    }
   ],
   "source": [
    "print dir(result.mle_retvals)\n",
    "print  result.mle_retvals.viewvalues()"
   ]
  },
  {
   "cell_type": "code",
   "execution_count": 12,
   "metadata": {},
   "outputs": [
    {
     "name": "stdout",
     "output_type": "stream",
     "text": [
      "Index([u'VENDOR', u'WW', u'WC', u'LFW', u'LFC', u'SYSTEM', u'YEAR', u'MONTH',\n",
      "       u'DAY', u'FMOZONE', u'ESC', u'COOLER', u'QLFC', u'QLFW', u'QWW', u'QWC',\n",
      "       u'ESTQTY', u'DEL', u'MILES', u'NUMSCHL', u'NUMWIN', u'POPUL', u'ADJPOP',\n",
      "       u'NUM', u'GAS', u'FMO'],\n",
      "      dtype='object')\n"
     ]
    }
   ],
   "source": [
    "#load data\n",
    "data = pd.read_csv('data/milk.csv')\n",
    "print data.columns"
   ]
  },
  {
   "cell_type": "code",
   "execution_count": null,
   "metadata": {},
   "outputs": [],
   "source": [
    "reg1 = data[['WW','FMO']].dropna()\n",
    "reg1 = reg1[reg1['WW']<.4]\n",
    "reg1 = np.log(reg1)\n",
    "\n",
    "model = Clusters( reg1['WW'] , np.ones((reg1.shape[0],1)) )\n",
    "model.weights = np.array([.3,.7])\n",
    "result = model.fit()\n",
    "print result.summary()"
   ]
  },
  {
   "cell_type": "code",
   "execution_count": 5,
   "metadata": {},
   "outputs": [
    {
     "name": "stdout",
     "output_type": "stream",
     "text": [
      "WW         -1.768216\n",
      "FMO         2.672613\n",
      "ESC         0.737441\n",
      "NUMSCHL    12.544541\n",
      "MILES       3.456749\n",
      "COOLER      0.736772\n",
      "GAS         2.864354\n",
      "DEL         4.262827\n",
      "ESTQTY     12.857605\n",
      "NOSTOP      3.346037\n",
      "dtype: float64\n"
     ]
    }
   ],
   "source": [
    "#ESC, COOLER ,MILES, GAS, DEL, ESTQTY\n",
    "reg1 = data[['WW', 'FMO','ESC', 'NUMSCHL','MILES','COOLER', 'GAS','DEL','ESTQTY']].dropna()\n",
    "\n",
    "#make a little better\n",
    "reg1['NUMSCHL'] = np.maximum(reg1['NUMSCHL'],1)\n",
    "reg1['NOSTOP'] = reg1['NUMSCHL']*reg1['DEL']\n",
    "reg1['MILES'] =reg1['MILES']+1\n",
    "reg1 = reg1[reg1['WW']<=.3]\n",
    "\n",
    "#log scale\n",
    "reg1[['WW', 'FMO', 'MILES', 'GAS','NOSTOP', 'ESTQTY']] = np.log(\n",
    "                                            reg1[['WW', 'FMO', 'MILES', 'GAS', 'NOSTOP', 'ESTQTY']])\n",
    "\n",
    "print reg1.mean()"
   ]
  },
  {
   "cell_type": "code",
   "execution_count": 8,
   "metadata": {},
   "outputs": [
    {
     "name": "stdout",
     "output_type": "stream",
     "text": [
      "                            OLS Regression Results                            \n",
      "==============================================================================\n",
      "Dep. Variable:                     WW   R-squared:                       0.051\n",
      "Model:                            OLS   Adj. R-squared:                  0.048\n",
      "Method:                 Least Squares   F-statistic:                     16.07\n",
      "Date:                Sun, 21 Apr 2019   Prob (F-statistic):           1.85e-15\n",
      "Time:                        18:26:34   Log-Likelihood:                 1957.9\n",
      "No. Observations:                1493   AIC:                            -3904.\n",
      "Df Residuals:                    1487   BIC:                            -3872.\n",
      "Df Model:                           5                                         \n",
      "Covariance Type:            nonrobust                                         \n",
      "==============================================================================\n",
      "                 coef    std err          t      P>|t|      [0.025      0.975]\n",
      "------------------------------------------------------------------------------\n",
      "const         -2.4310      0.097    -25.003      0.000      -2.622      -2.240\n",
      "ESC           -0.0067      0.004     -1.724      0.085      -0.014       0.001\n",
      "COOLER         0.0101      0.004      2.386      0.017       0.002       0.018\n",
      "FMO            0.2367      0.032      7.435      0.000       0.174       0.299\n",
      "NOSTOP         0.0072      0.005      1.593      0.111      -0.002       0.016\n",
      "ESTQTY         0.0003      0.005      0.059      0.953      -0.009       0.009\n",
      "==============================================================================\n",
      "Omnibus:                      261.932   Durbin-Watson:                   1.517\n",
      "Prob(Omnibus):                  0.000   Jarque-Bera (JB):             2598.166\n",
      "Skew:                           0.503   Prob(JB):                         0.00\n",
      "Kurtosis:                       9.384   Cond. No.                         822.\n",
      "==============================================================================\n",
      "\n",
      "Warnings:\n",
      "[1] Standard Errors assume that the covariance matrix of the errors is correctly specified.\n"
     ]
    }
   ],
   "source": [
    "model = sm.OLS(reg1['WW'],sm.add_constant(reg1[['ESC', 'COOLER', 'FMO','NOSTOP','ESTQTY']]))\n",
    "result = model.fit()\n",
    "print result.summary()"
   ]
  },
  {
   "cell_type": "code",
   "execution_count": 111,
   "metadata": {},
   "outputs": [
    {
     "name": "stderr",
     "output_type": "stream",
     "text": [
      "/home/erichschulman/anaconda2/lib/python2.7/site-packages/statsmodels/base/model.py:488: HessianInversionWarning: Inverting hessian failed, no bse or cov_params available\n",
      "  'available', HessianInversionWarning)\n"
     ]
    },
    {
     "name": "stdout",
     "output_type": "stream",
     "text": [
      "[EM convergence achieved] \n",
      "\n",
      "========================================================\n",
      "weights: [0.4997528 0.5002472]\n",
      "========================================================\n",
      "\n",
      "Optimization terminated successfully.\n",
      "         Current function value: 0.921971\n",
      "         Iterations: 390\n",
      "         Function evaluations: 619\n",
      "                               Clusters Results                               \n",
      "==============================================================================\n",
      "Dep. Variable:                     WW   Log-Likelihood:                -1376.5\n",
      "Model:                       Clusters   AIC:                             2759.\n",
      "Method:            Maximum Likelihood   BIC:                             2775.\n",
      "Date:                Sun, 21 Apr 2019                                         \n",
      "Time:                        18:25:38                                         \n",
      "No. Observations:                1493                                         \n",
      "Df Residuals:                    1490                                         \n",
      "Df Model:                           2                                         \n",
      "==============================================================================\n",
      "                 coef    std err          z      P>|z|      [0.025      0.975]\n",
      "------------------------------------------------------------------------------\n",
      "const0         0.0627        nan        nan        nan         nan         nan\n",
      "ESC0          -0.0013        nan        nan        nan         nan         nan\n",
      "FMO0          -0.6844        nan        nan        nan         nan         nan\n",
      "const1         0.0006        nan        nan        nan         nan         nan\n",
      "ESC1          -0.4056        nan        nan        nan         nan         nan\n",
      "FMO1           1.9037        nan        nan        nan         nan         nan\n",
      "==============================================================================\n"
     ]
    },
    {
     "name": "stderr",
     "output_type": "stream",
     "text": [
      "/home/erichschulman/anaconda2/lib/python2.7/site-packages/statsmodels/base/model.py:488: HessianInversionWarning: Inverting hessian failed, no bse or cov_params available\n",
      "  'available', HessianInversionWarning)\n"
     ]
    }
   ],
   "source": [
    "#working on clusters\n",
    "\n",
    "model = Clusters(reg1['WW'],sm.add_constant(reg1[['ESC', 'FMO']]))\n",
    "result = model.fit()\n",
    "print result.summary()"
   ]
  },
  {
   "cell_type": "code",
   "execution_count": null,
   "metadata": {},
   "outputs": [],
   "source": []
  }
 ],
 "metadata": {
  "kernelspec": {
   "display_name": "Python 2",
   "language": "python",
   "name": "python2"
  },
  "language_info": {
   "codemirror_mode": {
    "name": "ipython",
    "version": 2
   },
   "file_extension": ".py",
   "mimetype": "text/x-python",
   "name": "python",
   "nbconvert_exporter": "python",
   "pygments_lexer": "ipython2",
   "version": "2.7.15"
  }
 },
 "nbformat": 4,
 "nbformat_minor": 2
}
