{
 "cells": [
  {
   "cell_type": "code",
   "execution_count": 1,
   "metadata": {},
   "outputs": [],
   "source": [
    "import numpy as np\n",
    "import matplotlib.pyplot as plt"
   ]
  },
  {
   "cell_type": "code",
   "execution_count": 2,
   "metadata": {},
   "outputs": [
    {
     "name": "stdout",
     "output_type": "stream",
     "text": [
      "(10, 5, 2)\n"
     ]
    }
   ],
   "source": [
    "#Initialize global variables\n",
    "NOBS = 10\n",
    "T = 4\n",
    "\n",
    "#Strategy parameters\n",
    "MEAN_GAMMA = 1\n",
    "MEAN_RHO = 4\n",
    "VAR_GAMMA = .05\n",
    "VAR_RHO = .1\n",
    "\n",
    "#Initial history e\n",
    "a01 = 6.\n",
    "a02 = 4\n",
    "\n",
    "\n",
    "#Iterate each equilibrium T periods\n",
    "data = []\n",
    "\n",
    "for j in range(NOBS):\n",
    "    \n",
    "    #set parameters for 2 possible equilibria\n",
    "    gamma = np.random.normal(MEAN_GAMMA,VAR_GAMMA)\n",
    "    rho = np.random.normal(MEAN_RHO,VAR_RHO)\n",
    "    \n",
    "    #set up strategies\n",
    "    eq0 = lambda (a1,a2): (gamma) * a2  + (1-gamma)*a1\n",
    "    eq1 = lambda (a1,a2): rho\n",
    "    \n",
    "    #choose 1 randomly\n",
    "    eq = np.random.choice([eq0,eq1])\n",
    "    \n",
    "    #begin history\n",
    "    h = [np.array( [eq((a01,a02)),eq((a02,a01))] )]\n",
    "    \n",
    "    #iterate forward T periods\n",
    "    for t in range(T):\n",
    "        a1,a2 = h[t]\n",
    "        at = np.array([eq((a1,a2)),eq((a2,a1))])\n",
    "        h.append(at)\n",
    "    \n",
    "    h = np.array(h)\n",
    "    data.append(h)\n",
    "\n",
    "    \n",
    "data = np.array(data)\n",
    "print data.shape"
   ]
  },
  {
   "cell_type": "code",
   "execution_count": 3,
   "metadata": {},
   "outputs": [
    {
     "data": {
      "image/png": "[encoded data removed]",
      "text/plain": [
       "<Figure size 432x288 with 1 Axes>"
      ]
     },
     "metadata": {},
     "output_type": "display_data"
    }
   ],
   "source": [
    "#format data for plotting\n",
    "a1_obs = data[:,:,0].reshape(NOBS*(T+1))\n",
    "a2_obs = data[:,:,1].reshape(NOBS*(T+1))\n",
    "\n",
    "time_period = np.array(range(1,T+2))\n",
    "time_period = np.tile(time_period,NOBS)\n",
    "\n",
    "plt.plot(time_period,a1_obs,color ='r',marker=\"o\",linestyle=\"\")\n",
    "plt.savefig('a1.png')"
   ]
  },
  {
   "cell_type": "code",
   "execution_count": 4,
   "metadata": {},
   "outputs": [
    {
     "data": {
      "image/png": "[encoded data removed]",
      "text/plain": [
       "<Figure size 432x288 with 1 Axes>"
      ]
     },
     "metadata": {},
     "output_type": "display_data"
    }
   ],
   "source": [
    "plt.plot(time_period,a2_obs,marker=\"o\",linestyle=\"\")\n",
    "plt.savefig('a2.png')"
   ]
  },
  {
   "cell_type": "code",
   "execution_count": null,
   "metadata": {},
   "outputs": [],
   "source": []
  },
  {
   "cell_type": "code",
   "execution_count": null,
   "metadata": {},
   "outputs": [],
   "source": []
  }
 ],
 "metadata": {
  "kernelspec": {
   "display_name": "Python 2",
   "language": "python",
   "name": "python2"
  },
  "language_info": {
   "codemirror_mode": {
    "name": "ipython",
    "version": 2
   },
   "file_extension": ".py",
   "mimetype": "text/x-python",
   "name": "python",
   "nbconvert_exporter": "python",
   "pygments_lexer": "ipython2",
   "version": "2.7.15"
  }
 },
 "nbformat": 4,
 "nbformat_minor": 2
}
