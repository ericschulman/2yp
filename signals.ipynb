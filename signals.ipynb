{
 "cells": [
  {
   "cell_type": "code",
   "execution_count": 1,
   "metadata": {},
   "outputs": [],
   "source": [
    "import pandas as pd\n",
    "import math\n",
    "import numpy as np\n",
    "import statsmodels.api as sm\n",
    "import matplotlib.pyplot as plt\n",
    "\n",
    "from scipy.interpolate import interp1d #pre written interpolation function\n",
    "from scipy.interpolate import griddata"
   ]
  },
  {
   "cell_type": "code",
   "execution_count": 2,
   "metadata": {},
   "outputs": [],
   "source": [
    "def enum_other_states(n, num_step):\n",
    "    \"\"\"enumerate the state. using the following invariants\n",
    "    (1) symetry (.1,.1,.8) is equivalent to (.1,.1,.8) from firm 1's pespective\n",
    "    (2) the states must sum to 1\"\"\"\n",
    "    \n",
    "    states_i = np.arange(0,num_step+1)*(1./num_step)\n",
    "    if n <=1:\n",
    "        return states_i.reshape(num_step+1,1)\n",
    "    else:\n",
    "        states = []\n",
    "        states_j = enum_other_states(n-1, num_step)\n",
    "        for i in states_i:\n",
    "            for j in states_j:\n",
    "                if j[0] >= i and (j.sum() + i <= 1):\n",
    "                    state_ij = np.concatenate( ([i],j) )\n",
    "                    states.append(state_ij)\n",
    "        states = np.array(states)\n",
    "        return  states"
   ]
  },
  {
   "cell_type": "code",
   "execution_count": 3,
   "metadata": {},
   "outputs": [
    {
     "name": "stdout",
     "output_type": "stream",
     "text": [
      "[[0.75 0.   0.25]]\n"
     ]
    }
   ],
   "source": [
    "class States:\n",
    "    \"\"\"class for dealing with the states to ensure\n",
    "    invariants are kept\"\"\"\n",
    "    \n",
    "    my_states = None #type nparray\n",
    "    other_states = None #type np array 2d\n",
    "    n = 0 #number of players\n",
    "    num_step = 0 #number of states (states normalized between 0 and 1)\n",
    "    \n",
    "\n",
    "    def __init__(self, n, num_step):\n",
    "        \"\"\"initialize important class attributes\"\"\"\n",
    "        self.n, self.num_step = n, num_step\n",
    "      \n",
    "    \n",
    "    def gen_states(self):\n",
    "        \"\"\"compute all relevant states for firm i\n",
    "        the trick is enforcing invariants in the helper\"\"\"\n",
    "        self.other_states =  enum_other_states(self.n-1, self.num_step)\n",
    "        self.my_states = 1 - self.other_states.sum(axis=1)\n",
    "        \n",
    "    \n",
    "    def get_len(self):\n",
    "        return len(self.other_states)\n",
    "    \n",
    "    \n",
    "    def get_all(self):\n",
    "        \"\"\"return all the states\"\"\"\n",
    "        reshaped_states = self.my_states.reshape((len(self.my_states),1))\n",
    "        return np.concatenate( (reshaped_states, self.other_states), axis=1 )\n",
    "    \n",
    "    \n",
    "    def make_states(self, my_states, other_states):\n",
    "        \"\"\"special initializer for states enforcing the invariants\"\"\"\n",
    "        \n",
    "        assert np.array(other_states).shape[1] == (self.n -1)\n",
    "        \n",
    "        #make a copy to avoid side effects\n",
    "        new_states = States(self.n, self.num_step)\n",
    "        \n",
    "        #combine into 1 array\n",
    "        other_states = np.sort(other_states)\n",
    "        my_states = np.array(my_states).reshape((len(my_states),1))\n",
    "        all_states = np.concatenate((my_states,other_states),axis=1)\n",
    "        all_states = np.maximum(0, all_states )\n",
    "\n",
    "        #re-weight states\n",
    "        denom = all_states.sum(axis=1)\n",
    "        denom = np.repeat(denom,self.n).reshape(all_states.shape)\n",
    "        all_states = all_states/denom\n",
    "        \n",
    "        #return states\n",
    "        new_states.my_states = all_states[:,0]\n",
    "        new_states.other_states = np.delete(all_states,0,axis=1)\n",
    "        \n",
    "        return new_states\n",
    "\n",
    "states = States(3, 10)\n",
    "states.gen_states()\n",
    "new_states = states.make_states([1.5],[[.5,-1.]])\n",
    "\n",
    "print new_states.get_all()"
   ]
  },
  {
   "cell_type": "code",
   "execution_count": 4,
   "metadata": {},
   "outputs": [
    {
     "name": "stdout",
     "output_type": "stream",
     "text": [
      "[4.]\n"
     ]
    }
   ],
   "source": [
    "def create_function(states, values):\n",
    "    \"\"\"returns a function and its max values\n",
    "    the function uses the grid data to figure out return value\"\"\"\n",
    "    f = lambda eval_states: griddata(states.get_all(), values, \n",
    "                                     eval_states.get_all() ,method='nearest')\n",
    "       \n",
    "    return f, np.amax(values)\n",
    "\n",
    "\n",
    "states = States(3, 10)\n",
    "states.gen_states()\n",
    "new_states = states.make_states([.3],[[.3,.3]])\n",
    "values = np.concatenate([np.ones(states.get_len()/2),4*np.ones(states.get_len()/2)])\n",
    "policy0,max0 = create_function(states,values)\n",
    "print policy0(new_states)"
   ]
  },
  {
   "cell_type": "code",
   "execution_count": 5,
   "metadata": {},
   "outputs": [],
   "source": [
    "def calc_bids(policy, states):\n",
    "    \"\"\"return the other players bids\n",
    "    given the state by 'switching perspective'\n",
    "    to other firm\"\"\"\n",
    "    \n",
    "    other_bids = []\n",
    "    for i in range(1,states.n):\n",
    "        other_states = states.get_all()\n",
    "        my_other = other_states[:,i]\n",
    "        other = np.delete(other_states, i, axis=1)\n",
    "        other_states = states.make_states(my_other, other)\n",
    "        other_bids.append( policy(other_states) )\n",
    "    return np.array(other_bids).transpose()"
   ]
  },
  {
   "cell_type": "code",
   "execution_count": 6,
   "metadata": {},
   "outputs": [
    {
     "data": {
      "text/plain": [
       "array([[0.93939394, 0.03030303, 0.03030303]])"
      ]
     },
     "execution_count": 6,
     "metadata": {},
     "output_type": "execute_result"
    }
   ],
   "source": [
    "def cost(states, shock,theta):\n",
    "    \"\"\"return the cost for firm 0\"\"\"\n",
    "    return  shock + theta*states.my_states\n",
    "\n",
    "\n",
    "def weighting(bids):\n",
    "    \"\"\"return weighting when there's a tie\"\"\"\n",
    "    n_states, n_players = bids.shape\n",
    "    low_bid =  np.min(bids,axis=1)\n",
    "    low_bid = np.repeat(low_bid, n_players).reshape(n_states,n_players)\n",
    "    \n",
    "    #winners\n",
    "    win = (bids <= low_bid)\n",
    "    n_winners = win.sum(axis=1)*1.\n",
    "    n_winners = np.repeat(n_winners, n_players).reshape(n_states,n_players)\n",
    "    \n",
    "    #add loosers\n",
    "    lose = (bids > low_bid)\n",
    "    n_loosers = np.maximum(lose.sum(axis=1)*1.,1.)\n",
    "    n_loosers = np.repeat(n_loosers, n_players).reshape(n_states,n_players)\n",
    "    \n",
    "    return win/(1.*n_winners), lose/(1.*n_loosers)\n",
    "\n",
    "\n",
    "def profit(bids, states, contract, shock, theta):\n",
    "    \"\"\"return firm 0's profit\"\"\"\n",
    "    my_bids = bids[:,0]\n",
    "    win_weights, lose_weights = weighting(bids)\n",
    "    profits = contract*win_weights[:,0]*(my_bids - cost(states,shock,theta))  \n",
    "    return profits\n",
    "\n",
    "\n",
    "def update_state(bids, states, contract):\n",
    "    \"\"\"update all firms states based on bids\n",
    "    note: firms in updated states, no longer correspond to their bids\"\"\"\n",
    "    win_weights, lose_weights = weighting(bids)\n",
    "    new_states = contract*win_weights - contract*lose_weights + states.get_all()\n",
    "    return states.make_states(new_states[:,0],np.delete(new_states,0,axis=1))\n",
    "\n",
    "\n",
    "states = States(3, 10)\n",
    "states.gen_states()\n",
    "values = np.concatenate([np.ones(states.get_len()/2),2*np.ones(states.get_len()/2)])\n",
    "policy, peak = create_function(states, values)\n",
    "new_states = states.make_states([1.],[[0,0]])\n",
    "\n",
    "bids = np.array([[1,1,1]])\n",
    "\n",
    "update_state(bids,new_states,.1).get_all()"
   ]
  },
  {
   "cell_type": "code",
   "execution_count": 7,
   "metadata": {},
   "outputs": [
    {
     "name": "stdout",
     "output_type": "stream",
     "text": [
      "[2.]\n"
     ]
    }
   ],
   "source": [
    "def gen_sim_bid_states(bids, states, shock):\n",
    "    \"\"\"tile the states B x NSIM times\"\"\"\n",
    "    \n",
    "    #save lengths for later\n",
    "    n_bids = bids.shape[0]\n",
    "    n_shock = shock.shape[0]\n",
    "    \n",
    "    #repeat bids/states per each bid\n",
    "    my_bids = np.repeat(bids,states.get_len()*n_shock)\n",
    "    shock = np.repeat(shock,states.get_len())\n",
    "    shock = np.tile(shock,n_bids)\n",
    "    \n",
    "    bid_states = states.get_all()\n",
    "    bid_states = np.tile(bid_states,(n_bids*n_shock,1))\n",
    "    bid_states = states.make_states(bid_states[:,0],np.delete(bid_states,0,axis=1))\n",
    "    \n",
    "    return my_bids, bid_states, shock\n",
    "\n",
    "\n",
    "\n",
    "def operator(v_init, p_init, bids, states, shock, theta, beta):\n",
    "    \"\"\"update the value and the policy function for player 0\n",
    "    \n",
    "    since we are looking for symmetric eq, there is really just 1\n",
    "    policy and value to keep track of\"\"\"\n",
    "    \n",
    "    #generate all bids x sims x states\n",
    "    my_bids, bid_states, all_shock = gen_sim_bid_states(bids, states, shock)\n",
    "    \n",
    "    #other bids in each bid state and concat with my bids\n",
    "    other_bids = calc_bids(p_init, bid_states)\n",
    "    all_bids = my_bids.reshape(bid_states.get_len(),1)\n",
    "    all_bids = np.concatenate((all_bids,other_bids), axis=1)\n",
    "    \n",
    "    #initialize contract to 0\n",
    "    contract = .3\n",
    "    \n",
    "    #print bid_states.get_all()\n",
    "    \n",
    "    #calculate see how the states would update\n",
    "    next_states = update_state(all_bids, bid_states, contract)\n",
    "    \n",
    "    #calculate the value of the next state\n",
    "    value = profit(all_bids, bid_states, contract,  all_shock, theta)\n",
    "    value = value + beta*v_init(next_states)\n",
    "    \n",
    "    #reshape v_new to find argmax\n",
    "    value = value.reshape((len(bids),len(shock),states.get_len()))\n",
    "    #use argmax to find policy/value functions\n",
    "    policy = np.argmax(value,axis=0)\n",
    "    policy = bids[policy].mean(axis=0)\n",
    "    policy, p_max = create_function(states, policy) \n",
    "    \n",
    "    value = np.max(value,axis=0).mean(axis=0)\n",
    "    value, v_max = create_function(states, value)\n",
    "    \n",
    "    return  value, v_max, policy, p_max\n",
    "\n",
    "\n",
    "#run the operator\n",
    "states = States(3, 5)\n",
    "shock = np.random.normal(3,3,2)\n",
    "states.gen_states()\n",
    "values = np.concatenate([np.ones(states.get_len()/2),2*np.ones(states.get_len()/2)])\n",
    "policy, peak = create_function(states, values)\n",
    "bids = np.arange(1,3)\n",
    "\n",
    "value, v_max, policy, p_max = operator(policy, policy, bids, states, shock, 5, .9)\n",
    "\n",
    "#run a test or two\n",
    "new_states = states.make_states([1.],[[0,0]])\n",
    "print policy(new_states)"
   ]
  },
  {
   "cell_type": "code",
   "execution_count": 8,
   "metadata": {},
   "outputs": [],
   "source": [
    "def  markov_perfect_eq(error, maxiter, value, policy, bids, states, shock, theta, beta):\n",
    "    \"\"\"calculate the value function in a symmetric\n",
    "        markov perfect equilibria\"\"\"\n",
    "    \n",
    "    #initialize loop variables\n",
    "    policy_conv = True\n",
    "    value_conv = True #don't worry about value function for now\n",
    "    p0_max, v0_max = -1,-1 #ensure the loop goes once\n",
    "    \n",
    "    while  maxiter >= 0 and (policy_conv or value_conv) :\n",
    "        \n",
    "        #iterate loop variables for each player\n",
    "        value, v_max, policy, p_max = operator(value, policy, bids, states, shock, theta, beta)\n",
    "            \n",
    "        #update loop variables\n",
    "        maxiter = maxiter -1\n",
    "        policy_conv = np.abs(v_max - v0_max) > error\n",
    "        value_conv = np.abs(p_max - p0_max ) > error\n",
    "        v0_max, p0_max = v_max,p_max\n",
    "    \n",
    "    return  value, policy"
   ]
  },
  {
   "cell_type": "code",
   "execution_count": 9,
   "metadata": {},
   "outputs": [
    {
     "name": "stdout",
     "output_type": "stream",
     "text": [
      "[[0.         0.5        0.5        2.         1.8       ]\n",
      " [0.2        0.4        0.4        2.         1.42791623]\n",
      " [0.4        0.3        0.3        2.         1.32791623]\n",
      " [0.6        0.2        0.2        2.         1.22791623]\n",
      " [0.8        0.1        0.1        2.         0.9       ]\n",
      " [1.         0.         0.         2.         1.8       ]]\n"
     ]
    }
   ],
   "source": [
    "def gen_cross(states):\n",
    "    \"\"\"gen cross section for purposes of graphing policy\"\"\"\n",
    "    my_states = np.arange(0,states.num_step+1)*(1./states.num_step)\n",
    "\n",
    "    #equalize other market shares\n",
    "    fixed = (1 - my_states)/(states.n-1)\n",
    "    fixed = np.repeat(fixed, states.n-1 )\n",
    "    fixed_states = fixed.reshape(states.num_step + 1 , states.n-1)   \n",
    "\n",
    "    return states.make_states(my_states,fixed_states)\n",
    "\n",
    "\n",
    "def graph_functions(function, cross_sections, labels):\n",
    "    \"\"\"graph function on predetermined cross section\"\"\"\n",
    "    for i in range(len(function)):\n",
    "        #set up labels\n",
    "        fig = plt.figure()\n",
    "        plt.xlabel(\"Firm i's State\")\n",
    "        plt.ylabel(\"Firm i's %s Function\"%labels[i])\n",
    "        for cross in cross_sections:\n",
    "            plt.plot( cross.my_states, function[i](cross), label=str(cross.other_states[0]) )\n",
    "        plt.legend()\n",
    "\n",
    "        \n",
    "#states = States(5,7)\n",
    "cross_section = gen_cross(states)\n",
    "\n",
    "\n",
    "p = policy(cross_section).reshape(cross_section.get_len(),1)\n",
    "v = value(cross_section).reshape(cross_section.get_len(),1)\n",
    "print np.concatenate((cross_section.get_all(),p,v),axis=1)"
   ]
  },
  {
   "cell_type": "code",
   "execution_count": 20,
   "metadata": {},
   "outputs": [],
   "source": [
    "#Decreasing returns to scale (i.e. incumbency disadvantage, both games seem to admit this eq)\n",
    "\n",
    "bids = np.arange(1,15)*.16\n",
    "n= 3\n",
    "step = 10\n",
    "shock = np.random.normal(2,.5,40) #np.array([2])\n",
    "states = States(n,15)\n",
    "states.gen_states()\n",
    "values = np.concatenate([1.8*np.ones(states.get_len()/2),2*np.ones(states.get_len()/2)])\n",
    "policy, p_max = create_function(states, values)\n",
    "value, policy = markov_perfect_eq(.0001, 200, policy, policy, bids, states, shock, 1, .9)"
   ]
  },
  {
   "cell_type": "code",
   "execution_count": 21,
   "metadata": {},
   "outputs": [
    {
     "data": {
      "image/png": "[encoded data removed]",
      "text/plain": [
       "<Figure size 432x288 with 1 Axes>"
      ]
     },
     "metadata": {},
     "output_type": "display_data"
    },
    {
     "data": {
      "image/png": "[encoded data removed]",
      "text/plain": [
       "<Figure size 432x288 with 1 Axes>"
      ]
     },
     "metadata": {},
     "output_type": "display_data"
    }
   ],
   "source": [
    "graph_functions( (value,policy),[cross_section],['Value','Policy'])"
   ]
  },
  {
   "cell_type": "code",
   "execution_count": 22,
   "metadata": {},
   "outputs": [],
   "source": [
    "#second eq (i.e. incumbency disadvantage, bid low early on and high later (this one is cyclic?) )\n",
    "\n",
    "bids = np.arange(1,15)*.16\n",
    "n= 3\n",
    "step = 10\n",
    "shock = np.random.normal(2,.5,40) #np.array([2])\n",
    "states = States(n,15)\n",
    "states.gen_states()\n",
    "values = np.concatenate([1.4*np.ones(states.get_len()/2),1.4*np.ones(states.get_len()/2)])\n",
    "policy, p_max = create_function(states, values)\n",
    "value, policy = markov_perfect_eq(.0001, 200, policy, policy, bids, states, shock, 1, .9)"
   ]
  },
  {
   "cell_type": "code",
   "execution_count": 23,
   "metadata": {},
   "outputs": [
    {
     "data": {
      "image/png": "[encoded data removed]",
      "text/plain": [
       "<Figure size 432x288 with 1 Axes>"
      ]
     },
     "metadata": {},
     "output_type": "display_data"
    },
    {
     "data": {
      "image/png": "[encoded data removed]",
      "text/plain": [
       "<Figure size 432x288 with 1 Axes>"
      ]
     },
     "metadata": {},
     "output_type": "display_data"
    }
   ],
   "source": [
    "graph_functions( (value,policy),[cross_section],['Value','Policy'])"
   ]
  },
  {
   "cell_type": "code",
   "execution_count": 14,
   "metadata": {},
   "outputs": [],
   "source": [
    "#incresaing \n",
    "bids = np.arange(1,15)*.16\n",
    "n= 3\n",
    "step = 10\n",
    "shock = np.random.normal(2,.5,40) #np.array([2])\n",
    "states = States(n,15)\n",
    "states.gen_states()\n",
    "values = np.concatenate([1.3*np.ones(states.get_len()/2),1.3*np.ones(states.get_len()/2)])\n",
    "policy, p_max = create_function(states, values)\n",
    "value, policy = markov_perfect_eq(.0001, 200, policy, policy, bids, states, shock, -1, .9)"
   ]
  },
  {
   "cell_type": "code",
   "execution_count": 15,
   "metadata": {},
   "outputs": [
    {
     "data": {
      "image/png": "[encoded data removed]",
      "text/plain": [
       "<Figure size 432x288 with 1 Axes>"
      ]
     },
     "metadata": {},
     "output_type": "display_data"
    },
    {
     "data": {
      "image/png": "[encoded data removed]",
      "text/plain": [
       "<Figure size 432x288 with 1 Axes>"
      ]
     },
     "metadata": {},
     "output_type": "display_data"
    }
   ],
   "source": [
    "graph_functions( (value,policy),[cross_section],['Value','Policy'])"
   ]
  },
  {
   "cell_type": "code",
   "execution_count": null,
   "metadata": {},
   "outputs": [],
   "source": []
  }
 ],
 "metadata": {
  "kernelspec": {
   "display_name": "Python 2",
   "language": "python",
   "name": "python2"
  },
  "language_info": {
   "codemirror_mode": {
    "name": "ipython",
    "version": 2
   },
   "file_extension": ".py",
   "mimetype": "text/x-python",
   "name": "python",
   "nbconvert_exporter": "python",
   "pygments_lexer": "ipython2",
   "version": "2.7.15"
  }
 },
 "nbformat": 4,
 "nbformat_minor": 2
}
