{
 "cells": [
  {
   "cell_type": "code",
   "execution_count": 3,
   "metadata": {},
   "outputs": [],
   "source": [
    "import pandas as pd\n",
    "import math\n",
    "import numpy as np\n",
    "import statsmodels.api as sm\n",
    "from statsmodels.base.model import GenericLikelihoodModel\n",
    "import matplotlib.pyplot as plt\n",
    "from scipy import stats"
   ]
  },
  {
   "cell_type": "code",
   "execution_count": 4,
   "metadata": {},
   "outputs": [],
   "source": [
    "n = 1000\n",
    "beta01, beta11 = 5,-3\n",
    "beta02, beta12 = 2, 4\n",
    "\n",
    "#set up regression mixture\n",
    "x1 = np.random.uniform(0, 10, size=400)\n",
    "x2 = np.random.uniform(0, 10, size=600)\n",
    "\n",
    "y1 = beta01 + beta11*x1 + np.random.normal(scale=2.0, size=400)\n",
    "y2 = beta02 + beta12*x2 + np.random.normal(scale=4.0,size=600)\n",
    "\n",
    "X = np.concatenate([x1, x2])\n",
    "Y = np.concatenate([y1, y2])\n",
    "\n",
    "\n",
    "#set up 2 component mixture\n",
    "a1 = np.random.normal(2, 5, size=600)\n",
    "a2 = np.random.normal(5, 3, size=400)\n",
    "a = np.concatenate([a1,a2])"
   ]
  },
  {
   "cell_type": "code",
   "execution_count": 63,
   "metadata": {},
   "outputs": [
    {
     "name": "stdout",
     "output_type": "stream",
     "text": [
      "lambda: 0.409 (0.075) \n",
      "beta: [ 5.522 -3.121] ([0.381 0.581]) \n",
      "sigma: 1.274 (2.391)\n",
      "========================\n",
      "lambda: 0.591 (0.075) \n",
      "beta: [2.169 3.964] ([0.501 0.022]) \n",
      "sigma: 2.964 (0.408)\n",
      "========================\n"
     ]
    }
   ],
   "source": [
    "def e_step(y,x,params): \n",
    "    nobs, k = x.shape\n",
    "    weights = []\n",
    "    \n",
    "    for beta in params:\n",
    "        sigma = beta[-1]\n",
    "        beta = np.tile(beta[1:-1],nobs).reshape(nobs, k)\n",
    "        mean = (beta*x).sum(axis=1)\n",
    "        weights.append( stats.norm.pdf(y, loc=mean, scale=sigma) )\n",
    "\n",
    "    #update loop variables\n",
    "    weights = np.array(weights).transpose()\n",
    "    denom = np.repeat(weights.sum(axis= 1),len(params)).reshape(nobs,len(params))\n",
    "    weights = (weights/denom)\n",
    "    return weights\n",
    "        \n",
    "    \n",
    "def m_step(y,x,weights):\n",
    "    nobs, k = x.shape\n",
    "    params = []\n",
    "    for w in weights.transpose():\n",
    "        lamb = w.mean()\n",
    "        \n",
    "        #weighted OLS estimator\n",
    "        w_mat = np.diag(w)\n",
    "        beta = np.linalg.inv(x.transpose().dot( w_mat).dot(x)).dot(x.transpose().dot( w_mat )).dot(y)\n",
    "\n",
    "        \n",
    "        mu = np.tile(beta, nobs).reshape(nobs, k)*x\n",
    "        sigma = w*(y - mu.sum(axis=1))\n",
    "        sigma = sigma.std()\n",
    "        \n",
    "        comp_param =np.concatenate(([lamb],beta,[sigma]))\n",
    "        params.append(comp_param)\n",
    "        \n",
    "    return np.array(params)\n",
    "\n",
    "\n",
    "def gen_weights(nobs,ncomp):\n",
    "    np.random.seed(0)\n",
    "    weights = np.random.uniform(size=(nobs,ncomp))\n",
    "    denom = np.repeat(weights.sum(axis= 1),ncomp).reshape(nobs,ncomp)\n",
    "    return (weights/denom)\n",
    "\n",
    "\n",
    "def estimate(y,x,ncomp):\n",
    "    e = gen_weights(len(x),ncomp)\n",
    "    m = None\n",
    "    for i in range(10):\n",
    "        m = m_step(y,x,e)\n",
    "        e = e_step(y,x,m)\n",
    "    return m\n",
    "\n",
    "\n",
    "def bootstrap(y,x,ncomp):\n",
    "    nobs, k = x.shape\n",
    "    bootstr= []\n",
    "    for i in range(50):\n",
    "        #draw subsample\n",
    "        subn = 300\n",
    "        sample = np.random.choice(np.arange(0,nobs), subn , replace=True)\n",
    "        ys = y[sample]\n",
    "        xs = x[sample]\n",
    "            \n",
    "  \n",
    "        #compute bands\n",
    "        boot_model = estimate(ys,xs,ncomp)\n",
    "        bootstr.append(boot_model)\n",
    "        \n",
    "    bootstr = np.array(bootstr)\n",
    "    return bootstr.std(axis=0)\n",
    "\n",
    "\n",
    "def print_result(y,x,ncomp):\n",
    "    p = estimate(y,x,ncomp)\n",
    "    se = bootstrap(y,x,ncomp)\n",
    "    for i in range(ncomp):\n",
    "        \n",
    "        print 'lambda: %s (%s) \\nbeta: %s (%s) \\nsigma: %s (%s)'%(np.round(p[i][0],3), np.round(se[i][0],3),\n",
    "                                                                np.round(p[i][1:-1],3), np.round(se[i][1:-1],3),\n",
    "                                                                np.round(p[i][-1],3), np.round(se[i][-1],3))\n",
    "        print '========================'\n",
    "    \n",
    "\n",
    "print_result(Y,sm.add_constant(X),2)"
   ]
  },
  {
   "cell_type": "code",
   "execution_count": 8,
   "metadata": {},
   "outputs": [
    {
     "name": "stdout",
     "output_type": "stream",
     "text": [
      "Index([u'VENDOR', u'WW', u'WC', u'LFW', u'LFC', u'WIN', u'SYSTEM', u'YEAR',\n",
      "       u'MONTH', u'DAY', u'FMOZONE', u'ESC', u'COOLER', u'QLFC', u'QLFW',\n",
      "       u'QWW', u'QWC', u'ESTQTY', u'DEL', u'MILES', u'NUMSCHL', u'NUMWIN',\n",
      "       u'POPUL', u'ADJPOP', u'NUM', u'GAS', u'FMO'],\n",
      "      dtype='object')\n",
      "[[ 9.44093582e-01 -2.67325310e+00  3.31222719e-01  9.20328698e-02]\n",
      " [ 5.59064176e-02 -1.77195684e+00  6.64801547e-13  2.36606456e-13]]\n"
     ]
    }
   ],
   "source": [
    "data = pd.read_csv('data/milk.csv')\n",
    "print data.columns\n",
    "\n",
    "reg1 = data[['WW','FMO']].dropna()\n",
    "reg1 = reg1[reg1['WW']<.4]\n",
    "\n",
    "reg1[['WW','FMO']] = np.log(reg1[['WW','FMO']])\n",
    "params = estimate(np.array(reg1['WW']),np.array(sm.add_constant(reg1['FMO'])),2)\n",
    "print params"
   ]
  },
  {
   "cell_type": "code",
   "execution_count": null,
   "metadata": {},
   "outputs": [],
   "source": []
  }
 ],
 "metadata": {
  "kernelspec": {
   "display_name": "Python 2",
   "language": "python",
   "name": "python2"
  },
  "language_info": {
   "codemirror_mode": {
    "name": "ipython",
    "version": 2
   },
   "file_extension": ".py",
   "mimetype": "text/x-python",
   "name": "python",
   "nbconvert_exporter": "python",
   "pygments_lexer": "ipython2",
   "version": "2.7.15"
  }
 },
 "nbformat": 4,
 "nbformat_minor": 2
}
