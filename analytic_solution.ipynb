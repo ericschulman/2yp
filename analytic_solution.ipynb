{
 "cells": [
  {
   "cell_type": "code",
   "execution_count": 1,
   "metadata": {},
   "outputs": [],
   "source": [
    "import pandas as pd\n",
    "import math\n",
    "import numpy as np\n",
    "import statsmodels.api as sm\n",
    "from statsmodels.base.model import GenericLikelihoodModel\n",
    "import matplotlib.pyplot as plt\n",
    "from scipy import stats\n",
    "from scipy import cluster"
   ]
  },
  {
   "cell_type": "code",
   "execution_count": 2,
   "metadata": {},
   "outputs": [],
   "source": [
    "n = 1000\n",
    "beta01, beta11 = 5,-3\n",
    "beta02, beta12 = 2, 4\n",
    "\n",
    "#set up regression mixture\n",
    "x1 = np.random.uniform(0, 10, size=400)\n",
    "x2 = np.random.uniform(0, 10, size=600)\n",
    "\n",
    "y1 = beta01 + beta11*x1 + np.random.normal(scale=5.0, size=400)\n",
    "y2 = beta02 + beta12*x2 + np.random.normal(scale=4.0,size=600)\n",
    "\n",
    "X = np.concatenate([x1, x2])\n",
    "Y = np.concatenate([y1, y2])\n",
    "\n",
    "\n",
    "#set up 2 component mixture\n",
    "a1 = np.random.normal(2, 5, size=600)\n",
    "a2 = np.random.normal(5, 3, size=400)\n",
    "a = np.concatenate([a1,a2])"
   ]
  },
  {
   "cell_type": "code",
   "execution_count": 24,
   "metadata": {},
   "outputs": [
    {
     "name": "stdout",
     "output_type": "stream",
     "text": [
      "[[ 0.3902011   4.76418441 -2.98527709  5.13273322]\n",
      " [ 0.6097989   1.30088735  4.13835377  3.78403324]]\n"
     ]
    }
   ],
   "source": [
    "def e_step(y,x,params): \n",
    "    y, x = np.array(y), np.array(x)\n",
    "    nobs, k = x.shape\n",
    "    weights = []\n",
    "    for param in params:\n",
    "\n",
    "        sigma = param[-1]\n",
    "        beta = np.tile(param[1:-1],nobs).reshape(nobs, k)\n",
    "        mean = (beta*x).sum(axis=1)\n",
    "        weights.append( stats.norm.pdf(y, loc=mean, scale=sigma)*param[0] )\n",
    "\n",
    "    #update loop variables\n",
    "    weights = np.array(weights).transpose()\n",
    "    #denom = np.repeat( 1+np.exp(weights).sum(axis=1), len(params) ).reshape(nobs,len(params))\n",
    "    denom = np.repeat(weights.sum(axis=1), len(params) ).reshape(nobs,len(params))\n",
    "    weights = weights/denom\n",
    "    return weights\n",
    "        \n",
    "    \n",
    "def m_step(y,x,weights):\n",
    "    y, x, weights = np.array(y), np.array(x), np.array(weights)\n",
    "    nobs, k = x.shape\n",
    "    params, se, err = [], [], 0\n",
    "\n",
    "    for w in weights.transpose():\n",
    "        \n",
    "        lamb = w.mean()\n",
    "        lamb_se = w.std()\n",
    "\n",
    "        #beta\n",
    "        w_mat = np.diag(w)\n",
    "        xx_mat = np.linalg.inv( x.transpose().dot( w_mat).dot(x) )\n",
    "        beta = xx_mat.dot(x.transpose().dot(w_mat)).dot(y)\n",
    "        \n",
    "        #sigma\n",
    "        mu = np.tile(beta, nobs).reshape(nobs, k)*x\n",
    "        weighted_err = w*(y - mu.sum(axis=1))**2\n",
    "        sigma =  (weighted_err.sum()/w.sum())**.5\n",
    "\n",
    "        #add component\n",
    "        comp_param =np.concatenate(([lamb],beta,[sigma]))\n",
    "        params.append(comp_param)\n",
    "\n",
    "        #beta_se\n",
    "        beta_se = (np.diagonal(xx_mat*sigma**2))**.5\n",
    "        comp_se = np.concatenate(([lamb_se],beta_se))\n",
    "        se.append(comp_se)\n",
    "\n",
    "        #SSR\n",
    "        err = err+weighted_err\n",
    "    return np.array(params), np.array(se), 1-err.mean()/y.var()\n",
    "\n",
    "\n",
    "def gen_weights(y,ncomp):\n",
    "    c,labels = cluster.vq.kmeans2(y,ncomp)\n",
    "    return np.array(pd.get_dummies(labels))\n",
    "\n",
    "\n",
    "def estimate(y,x,ncomp):\n",
    "    e = gen_weights(y,ncomp)\n",
    "    m = None\n",
    "    for i in range(15):\n",
    "        m,se,r2 = m_step(y,x,e)\n",
    "        e = e_step(y,x,m)\n",
    "    return m, se, r2, y, x, ncomp\n",
    "\n",
    "\n",
    "m, se, r2, y, x, ncomp = estimate(Y, sm.add_constant(X), 2)\n",
    "print m"
   ]
  },
  {
   "cell_type": "code",
   "execution_count": 25,
   "metadata": {},
   "outputs": [],
   "source": [
    "def write_table(fname, estimates, labels=('y',None)):\n",
    "    \n",
    "    #unpack relevant information\n",
    "    params, se, r2, y, x, ncomp = estimates\n",
    "    nobs, k = x.shape\n",
    "    ylabel, xlabel = labels\n",
    "    \n",
    "    if xlabel == None:\n",
    "        xlabel =[]\n",
    "        for i in range(k):\n",
    "            xlabel.append('x%s'%i)\n",
    "            \n",
    "    assert (k == len(xlabel)) \n",
    "    \n",
    "    f = open(fname, \"w+\")\n",
    "    \n",
    "    f.write(('\\\\begin{center}  \\n'+\n",
    "            '\\\\begin{tabular}{lclc} \\n'+\n",
    "            '\\\\toprule \\n'+\n",
    "            '\\\\textbf{Dep. Variable:} & %s & \\\\textbf{  R-squared: } &  %s \\\\\\\\ \\n'%(ylabel, np.round(r2,3))  ))\n",
    "    \n",
    "    f.write(('\\\\textbf{No. Observations:} & %s & & \\\\\\\\ \\n'%nobs+\n",
    "            '\\end{tabular} \\n'))\n",
    "    \n",
    "    \n",
    "    f.write('\\n\\\\begin{tabular}{lcccc} \\n')\n",
    "    for comp in range(ncomp):\n",
    "        f.write('\\\\toprule \\n')\n",
    "        f.write('\\\\textbf{Regime %s} & \\\\textbf{est} & \\\\textbf{std err} &'%(1+comp)+ \n",
    "                '\\\\textbf{t} & \\\\textbf{P $>$ $|$ t $|$} \\\\\\\\ \\n')\n",
    "        f.write('\\\\bottomrule \\\\\\\\ \\n')\n",
    "        \n",
    "        #isolate params\n",
    "        comp_params = params[comp]\n",
    "        comp_se = se[comp]\n",
    "        comp_t = comp_params[:-1]/comp_se\n",
    "        comp_p = 1 - stats.t.cdf(np.abs(comp_t),df=(nobs-k)) + stats.t.cdf(-np.abs(comp_t),df=(nobs-k))\n",
    "        \n",
    "        #round everything\n",
    "        comp_params = np.round(comp_params,5)\n",
    "        comp_se = np.round(comp_se,5)\n",
    "        comp_t = np.round(comp_t,5)\n",
    "        comp_p = np.round(comp_p,5)\n",
    "        \n",
    "        lamb, lamb_se, lamb_t, lamb_p = comp_params[0], comp_se[0], comp_t[0], comp_p[0]\n",
    "        beta, beta_se, beta_t, beta_p = comp_params[1:-1], comp_se[1:], comp_t[1:], comp_p[1:]\n",
    "        sigma = comp_params[-1]\n",
    "        \n",
    "        \n",
    "        f.write('\\\\textbf{lambda} & %s & (%s) & %s & %s \\\\\\\\ \\\\\\\\ \\n'%(lamb,lamb_se,lamb_t,lamb_p) )\n",
    "        \n",
    "        for i in range(k):\n",
    "            f.write('\\\\textbf{%s} & %s & (%s) & %s & %s \\\\\\\\ \\\\\\\\ \\n'%(xlabel[i],beta[i],beta_se[i],\n",
    "                                                                             beta_t[i],beta_p[i]) )\n",
    "        \n",
    "        f.write('\\\\textbf{sigma} & %s &  & & \\\\\\\\ \\\\\\\\ \\n'%(sigma) )\n",
    "    \n",
    "    f.write('\\end{tabular} \\n'+\n",
    "            '\\end{center}\\n')\n",
    "    f.close()\n",
    "    \n",
    "    #print output\n",
    "    f = open(fname, \"r\")\n",
    "    print f.read()\n",
    "    f.close()"
   ]
  },
  {
   "cell_type": "code",
   "execution_count": 26,
   "metadata": {},
   "outputs": [
    {
     "name": "stdout",
     "output_type": "stream",
     "text": [
      "(4004,)\n"
     ]
    },
    {
     "data": {
      "image/png": "[encoded data removed]",
      "text/plain": [
       "<Figure size 432x288 with 1 Axes>"
      ]
     },
     "metadata": {},
     "output_type": "display_data"
    }
   ],
   "source": [
    "data = pd.read_csv('data/milk.csv')\n",
    "\n",
    "bids = np.array(data['WW'].dropna())\n",
    "lbids = np.log(bids[ (bids >= .12) &(bids<=.21)])\n",
    "\n",
    "print lbids.shape\n",
    "\n",
    "#do KDE\n",
    "dens = sm.nonparametric.KDEUnivariate(lbids)\n",
    "dens.fit()\n",
    "\n",
    "# do Guasian mixture\n",
    "est = estimate(lbids,np.ones((len(lbids),1)) , 2)\n",
    "coefs = est[0]\n",
    "comp1 = coefs[0,0]*stats.norm.pdf(dens.support,coefs[0,1],coefs[0,2])\n",
    "comp2 = coefs[1,0]*stats.norm.pdf(dens.support,coefs[1,1],coefs[1,2])\n",
    "\n",
    "\n",
    "plt.plot(dens.support, comp1, label='Mixture 1')\n",
    "plt.plot(dens.support, comp2, label='Mixture 2')\n",
    "plt.xlabel('log(Bids)')\n",
    "plt.ylabel('Density')\n",
    "plt.plot(dens.support, dens.density, label='KDE')\n",
    "plt.legend()\n",
    "plt.savefig('results/bid_mixture.png')\n",
    "plt.show()"
   ]
  },
  {
   "cell_type": "code",
   "execution_count": 39,
   "metadata": {},
   "outputs": [
    {
     "name": "stdout",
     "output_type": "stream",
     "text": [
      "\\begin{center}  \n",
      "\\begin{tabular}{lclc} \n",
      "\\toprule \n",
      "\\textbf{Dep. Variable:} & WW & \\textbf{  R-squared: } &  0.027 \\\\ \n",
      "\\textbf{No. Observations:} & 1659 & & \\\\ \n",
      "\\end{tabular} \n",
      "\n",
      "\\begin{tabular}{lcccc} \n",
      "\\toprule \n",
      "\\textbf{Regime 1} & \\textbf{est} & \\textbf{std err} &\\textbf{t} & \\textbf{P $>$ $|$ t $|$} \\\\ \n",
      "\\bottomrule \\\\ \n",
      "\\textbf{lambda} & 1.0 & (0.0) & inf & 0.0 \\\\ \\\\ \n",
      "\\textbf{const} & -2.35247 & (0.08884) & -26.47867 & 0.0 \\\\ \\\\ \n",
      "\\textbf{ESC} & 0.18414 & (0.0319) & 5.77297 & 0.0 \\\\ \\\\ \n",
      "\\textbf{FMO} & 0.00648 & (0.00527) & 1.22948 & 0.21907 \\\\ \\\\ \n",
      "\\textbf{GAS} & 0.01433 & (0.00403) & 3.55972 & 0.00038 \\\\ \\\\ \n",
      "\\textbf{sigma} & 0.06852 &  & & \\\\ \\\\ \n",
      "\\end{tabular} \n",
      "\\end{center}\n",
      "\n"
     ]
    },
    {
     "name": "stderr",
     "output_type": "stream",
     "text": [
      "/home/erichschulman/anaconda2/lib/python2.7/site-packages/ipykernel_launcher.py:36: RuntimeWarning: divide by zero encountered in divide\n"
     ]
    }
   ],
   "source": [
    "data = pd.read_csv('data/milk.csv')\n",
    "\n",
    "reg1['COOLER'] = reg1['COOLER'].fillna(0)\n",
    "reg1 = data[['WW','ESC','FMO','GAS','POPUL','DEL','NUMSCHL','COOLER']].dropna()\n",
    "reg1 = sm.add_constant(reg1)\n",
    "\n",
    "reg1['QSTOP'] = reg1['POPUL']/(reg1['DEL']*reg1['NUMSCHL'])\n",
    "reg1['NOSTOP'] = reg1['DEL']*reg1['NUMSCHL']\n",
    "\n",
    "reg1[['WW','FMO','GAS','QSTOP']] = np.log(reg1[['WW','FMO','GAS','QSTOP']])\n",
    "\n",
    "est1 = estimate(reg1['WW'],reg1[['const','FMO','GAS','QSTOP']],1)\n",
    "write_table('results/ols_results.tex', est1, labels=('WW', ['const','ESC','FMO','GAS']))"
   ]
  },
  {
   "cell_type": "code",
   "execution_count": 40,
   "metadata": {},
   "outputs": [
    {
     "name": "stdout",
     "output_type": "stream",
     "text": [
      "\\begin{center}  \n",
      "\\begin{tabular}{lclc} \n",
      "\\toprule \n",
      "\\textbf{Dep. Variable:} & WW & \\textbf{  R-squared: } &  0.109 \\\\ \n",
      "\\textbf{No. Observations:} & 1659 & & \\\\ \n",
      "\\end{tabular} \n",
      "\n",
      "\\begin{tabular}{lcccc} \n",
      "\\toprule \n",
      "\\textbf{Regime 1} & \\textbf{est} & \\textbf{std err} &\\textbf{t} & \\textbf{P $>$ $|$ t $|$} \\\\ \n",
      "\\bottomrule \\\\ \n",
      "\\textbf{lambda} & 0.24995 & (0.24567) & 1.01742 & 0.3091 \\\\ \\\\ \n",
      "\\textbf{const} & -2.71951 & (0.25037) & -10.86214 & 0.0 \\\\ \\\\ \n",
      "\\textbf{ESC} & 0.19126 & (0.08721) & 2.19314 & 0.02844 \\\\ \\\\ \n",
      "\\textbf{FMO} & 0.06726 & (0.01751) & 3.84115 & 0.00013 \\\\ \\\\ \n",
      "\\textbf{GAS} & 0.04373 & (0.01332) & 3.28338 & 0.00105 \\\\ \\\\ \n",
      "\\textbf{sigma} & 0.10628 &  & & \\\\ \\\\ \n",
      "\\toprule \n",
      "\\textbf{Regime 2} & \\textbf{est} & \\textbf{std err} &\\textbf{t} & \\textbf{P $>$ $|$ t $|$} \\\\ \n",
      "\\bottomrule \\\\ \n",
      "\\textbf{lambda} & 0.75005 & (0.24567) & 3.05309 & 0.0023 \\\\ \\\\ \n",
      "\\textbf{const} & -2.33303 & (0.06952) & -33.56106 & 0.0 \\\\ \\\\ \n",
      "\\textbf{ESC} & 0.21584 & (0.0252) & 8.56556 & 0.0 \\\\ \\\\ \n",
      "\\textbf{FMO} & -0.01053 & (0.00387) & -2.72277 & 0.00654 \\\\ \\\\ \n",
      "\\textbf{GAS} & 0.00504 & (0.00295) & 1.70654 & 0.0881 \\\\ \\\\ \n",
      "\\textbf{sigma} & 0.0444 &  & & \\\\ \\\\ \n",
      "\\end{tabular} \n",
      "\\end{center}\n",
      "\n"
     ]
    }
   ],
   "source": [
    "est1 = estimate(reg1['WW'],reg1[['const','FMO','GAS','QSTOP']],2)\n",
    "write_table('results/prelim_results.tex', est1, labels=('WW', ['const','ESC','FMO','GAS']))"
   ]
  },
  {
   "cell_type": "code",
   "execution_count": null,
   "metadata": {},
   "outputs": [],
   "source": []
  }
 ],
 "metadata": {
  "kernelspec": {
   "display_name": "Python 2",
   "language": "python",
   "name": "python2"
  },
  "language_info": {
   "codemirror_mode": {
    "name": "ipython",
    "version": 2
   },
   "file_extension": ".py",
   "mimetype": "text/x-python",
   "name": "python",
   "nbconvert_exporter": "python",
   "pygments_lexer": "ipython2",
   "version": "2.7.15"
  }
 },
 "nbformat": 4,
 "nbformat_minor": 2
}
