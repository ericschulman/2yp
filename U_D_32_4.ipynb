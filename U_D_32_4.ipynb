{
 "cells": [
  {
   "cell_type": "code",
   "execution_count": 12,
   "metadata": {},
   "outputs": [],
   "source": [
    "import pandas\n",
    "import math\n",
    "import numpy as np\n",
    "import matplotlib.pyplot as plt\n",
    "import statsmodels.api as sm\n",
    "\n",
    "FNAME = 'data/U_D_32_4.csv'\n",
    "df = pandas.read_csv(FNAME)"
   ]
  },
  {
   "cell_type": "code",
   "execution_count": 18,
   "metadata": {},
   "outputs": [
    {
     "name": "stdout",
     "output_type": "stream",
     "text": [
      "    brand_dd  oz_dd dairy_dd flavor_dd  region_dd  week  price_dd  \\\n",
      "0         DD     32        D         U          4     0       NaN   \n",
      "1         DD     32        D         U          4     1       NaN   \n",
      "2         DD     32        D         U          4     2       NaN   \n",
      "3         DD     32        D         U          4     3       NaN   \n",
      "4         DD     32        D         U          4     4       NaN   \n",
      "5         DD     32        D         U          4     5       NaN   \n",
      "6         DD     32        D         U          4     6       NaN   \n",
      "7         DD     32        D         U          4     7       NaN   \n",
      "8         DD     32        D         U          4     8       NaN   \n",
      "9         DD     32        D         U          4     9       NaN   \n",
      "10        DD     32        D         U          4    10       NaN   \n",
      "11        DD     32        D         U          4    11       NaN   \n",
      "12        DD     32        D         U          4    12       NaN   \n",
      "13        DD     32        D         U          4    13       NaN   \n",
      "14        DD     32        D         U          4    14       NaN   \n",
      "15        DD     32        D         U          4    15       NaN   \n",
      "16        DD     32        D         U          4    16       NaN   \n",
      "17        DD     32        D         U          4    17       NaN   \n",
      "18        DD     32        D         U          4    18       NaN   \n",
      "19        DD     32        D         U          4    19       NaN   \n",
      "20        DD     32        D         U          4    20     2.200   \n",
      "21        DD     32        D         U          4    21     2.200   \n",
      "22        DD     32        D         U          4    22     2.175   \n",
      "23        DD     32        D         U          4    23     2.175   \n",
      "24        DD     32        D         U          4    24     2.175   \n",
      "25        DD     32        D         U          4    25     2.175   \n",
      "26        DD     32        D         U          4    26     1.850   \n",
      "27        DD     32        D         U          4    27     1.800   \n",
      "28        DD     32        D         U          4    28     1.775   \n",
      "29        DD     32        D         U          4    29     1.775   \n",
      "..       ...    ...      ...       ...        ...   ...       ...   \n",
      "127       DD     32        D         U          4   127     1.725   \n",
      "128       DD     32        D         U          4   128     1.725   \n",
      "129       DD     32        D         U          4   129     1.725   \n",
      "130       DD     32        D         U          4   130     1.675   \n",
      "131       DD     32        D         U          4   131     1.600   \n",
      "132       DD     32        D         U          4   132     1.750   \n",
      "133       DD     32        D         U          4   133     1.750   \n",
      "134       DD     32        D         U          4   134     1.750   \n",
      "135       DD     32        D         U          4   135     1.750   \n",
      "136       DD     32        D         U          4   136     1.750   \n",
      "137       DD     32        D         U          4   137     1.650   \n",
      "138       DD     32        D         U          4   138     1.550   \n",
      "139       DD     32        D         U          4   139     1.750   \n",
      "140       DD     32        D         U          4   140     1.750   \n",
      "141       DD     32        D         U          4   141     1.650   \n",
      "142       DD     32        D         U          4   142     1.550   \n",
      "143       DD     32        D         U          4   143     1.625   \n",
      "144       DD     32        D         U          4   144     1.550   \n",
      "145       DD     32        D         U          4   145     1.675   \n",
      "146       DD     32        D         U          4   146     1.600   \n",
      "147       DD     32        D         U          4   147     1.750   \n",
      "148       DD     32        D         U          4   148     1.675   \n",
      "149       DD     32        D         U          4   149     1.600   \n",
      "150       DD     32        D         U          4   150     1.725   \n",
      "151       DD     32        D         U          4   151     1.650   \n",
      "152       DD     32        D         U          4   152     1.575   \n",
      "153       DD     32        D         U          4   153     1.475   \n",
      "154       DD     32        D         U          4   154     1.525   \n",
      "155       DD     32        D         U          4   155     1.650   \n",
      "156       DD     32        D         U          4   156     1.650   \n",
      "\n",
      "     quantity_dd brand_pl  oz_pl dairy_pl flavor_pl  region_pl  price_pl  \\\n",
      "0            NaN       PL     32        D         U          4       NaN   \n",
      "1            NaN       PL     32        D         U          4     1.125   \n",
      "2            NaN       PL     32        D         U          4     1.150   \n",
      "3            NaN       PL     32        D         U          4     1.150   \n",
      "4            NaN       PL     32        D         U          4     1.150   \n",
      "5            NaN       PL     32        D         U          4     1.150   \n",
      "6            NaN       PL     32        D         U          4     1.150   \n",
      "7            NaN       PL     32        D         U          4     1.150   \n",
      "8            NaN       PL     32        D         U          4     1.150   \n",
      "9            NaN       PL     32        D         U          4     1.150   \n",
      "10           NaN       PL     32        D         U          4     1.150   \n",
      "11           NaN       PL     32        D         U          4     1.150   \n",
      "12           NaN       PL     32        D         U          4     1.150   \n",
      "13           NaN       PL     32        D         U          4     1.150   \n",
      "14           NaN       PL     32        D         U          4     1.150   \n",
      "15           NaN       PL     32        D         U          4     1.150   \n",
      "16           NaN       PL     32        D         U          4     1.150   \n",
      "17           NaN       PL     32        D         U          4     1.150   \n",
      "18           NaN       PL     32        D         U          4     1.150   \n",
      "19           NaN       PL     32        D         U          4     1.150   \n",
      "20        1390.0       PL     32        D         U          4     1.150   \n",
      "21        7130.0       PL     32        D         U          4     1.150   \n",
      "22       12460.0       PL     32        D         U          4     1.150   \n",
      "23       14950.0       PL     32        D         U          4     1.150   \n",
      "24       13630.0       PL     32        D         U          4     1.150   \n",
      "25       12890.0       PL     32        D         U          4     1.150   \n",
      "26       16640.0       PL     32        D         U          4     1.150   \n",
      "27       19110.0       PL     32        D         U          4     1.150   \n",
      "28       19620.0       PL     32        D         U          4     1.125   \n",
      "29       18870.0       PL     32        D         U          4     1.125   \n",
      "..           ...      ...    ...      ...       ...        ...       ...   \n",
      "127      26790.0       PL     32        D         U          4     1.450   \n",
      "128      27260.0       PL     32        D         U          4     1.450   \n",
      "129      24770.0       PL     32        D         U          4     1.450   \n",
      "130      27420.0       PL     32        D         U          4     1.450   \n",
      "131      28100.0       PL     32        D         U          4     1.450   \n",
      "132      24980.0       PL     32        D         U          4     1.450   \n",
      "133      24360.0       PL     32        D         U          4     1.450   \n",
      "134      24560.0       PL     32        D         U          4     1.450   \n",
      "135      25540.0       PL     32        D         U          4     1.425   \n",
      "136      24510.0       PL     32        D         U          4     1.425   \n",
      "137      27420.0       PL     32        D         U          4     1.425   \n",
      "138      32640.0       PL     32        D         U          4     1.425   \n",
      "139      25670.0       PL     32        D         U          4     1.450   \n",
      "140      26310.0       PL     32        D         U          4     1.450   \n",
      "141      29850.0       PL     32        D         U          4     1.450   \n",
      "142      33070.0       PL     32        D         U          4     1.450   \n",
      "143      34260.0       PL     32        D         U          4     1.450   \n",
      "144      41130.0       PL     32        D         U          4     1.450   \n",
      "145      28830.0       PL     32        D         U          4     1.400   \n",
      "146      30520.0       PL     32        D         U          4     1.350   \n",
      "147      26630.0       PL     32        D         U          4     1.450   \n",
      "148      30960.0       PL     32        D         U          4     1.450   \n",
      "149      35330.0       PL     32        D         U          4     1.425   \n",
      "150      30070.0       PL     32        D         U          4     1.425   \n",
      "151      32200.0       PL     32        D         U          4     1.450   \n",
      "152      33450.0       PL     32        D         U          4     1.450   \n",
      "153      40520.0       PL     32        D         U          4     1.450   \n",
      "154      43210.0       PL     32        D         U          4     1.450   \n",
      "155      41110.0       PL     32        D         U          4     1.450   \n",
      "156      32000.0       PL     32        D         U          4     1.450   \n",
      "\n",
      "     quantity_pl  \n",
      "0            NaN  \n",
      "1      6588920.0  \n",
      "2      6206980.0  \n",
      "3      6687980.0  \n",
      "4      6387420.0  \n",
      "5      6553300.0  \n",
      "6      6524960.0  \n",
      "7      6220760.0  \n",
      "8      7394920.0  \n",
      "9      6191380.0  \n",
      "10     6434220.0  \n",
      "11     6296680.0  \n",
      "12     6547320.0  \n",
      "13     6320860.0  \n",
      "14     5766800.0  \n",
      "15     7336680.0  \n",
      "16     4863040.0  \n",
      "17     6024720.0  \n",
      "18     6034340.0  \n",
      "19     5710640.0  \n",
      "20     6543420.0  \n",
      "21     5879900.0  \n",
      "22     5986500.0  \n",
      "23     6135740.0  \n",
      "24     5878860.0  \n",
      "25     5592340.0  \n",
      "26     6192940.0  \n",
      "27     5479500.0  \n",
      "28     5702580.0  \n",
      "29     5736380.0  \n",
      "..           ...  \n",
      "127    5970120.0  \n",
      "128    5969600.0  \n",
      "129    5536960.0  \n",
      "130    5480540.0  \n",
      "131    5173220.0  \n",
      "132    5164900.0  \n",
      "133    5303220.0  \n",
      "134    5679960.0  \n",
      "135    6009380.0  \n",
      "136    6048640.0  \n",
      "137    5881980.0  \n",
      "138    5813860.0  \n",
      "139    5632900.0  \n",
      "140    5453240.0  \n",
      "141    5415020.0  \n",
      "142    5734560.0  \n",
      "143    6079320.0  \n",
      "144    5934500.0  \n",
      "145    6640660.0  \n",
      "146    6853600.0  \n",
      "147    6518720.0  \n",
      "148    6403540.0  \n",
      "149    6346080.0  \n",
      "150    7369180.0  \n",
      "151    8360040.0  \n",
      "152    6143020.0  \n",
      "153    6363240.0  \n",
      "154    6928480.0  \n",
      "155    9746880.0  \n",
      "156    6175000.0  \n",
      "\n",
      "[157 rows x 15 columns]\n"
     ]
    }
   ],
   "source": [
    "dd = df[df.brand == 'DD']\n",
    "pl = df[df.brand == 'PL']\n",
    "merged = dd.merge(pl, on='week', how='inner', suffixes = ('_dd','_pl'))\n",
    "print merged"
   ]
  },
  {
   "cell_type": "code",
   "execution_count": 42,
   "metadata": {},
   "outputs": [
    {
     "data": {
      "text/plain": [
       "<matplotlib.collections.PathCollection at 0x7f342b5f3a90>"
      ]
     },
     "execution_count": 42,
     "metadata": {},
     "output_type": "execute_result"
    },
    {
     "data": {
      "image/png": "[encoded data removed]",
      "text/plain": [
       "<Figure size 432x288 with 1 Axes>"
      ]
     },
     "metadata": {},
     "output_type": "display_data"
    }
   ],
   "source": [
    "merged_q = merged.dropna(subset = ['quantity_pl', 'quantity_dd'])\n",
    "plt.scatter(merged_q.quantity_pl, merged_q.quantity_dd)"
   ]
  },
  {
   "cell_type": "code",
   "execution_count": 45,
   "metadata": {},
   "outputs": [
    {
     "data": {
      "text/plain": [
       "<matplotlib.collections.PathCollection at 0x7f342b39ed50>"
      ]
     },
     "execution_count": 45,
     "metadata": {},
     "output_type": "execute_result"
    },
    {
     "data": {
      "image/png": "[encoded data removed]",
      "text/plain": [
       "<Figure size 432x288 with 1 Axes>"
      ]
     },
     "metadata": {},
     "output_type": "display_data"
    }
   ],
   "source": [
    "merged_p = merged.dropna(subset = ['price_pl', 'price_dd'])\n",
    "plt.scatter(merged_p.price_pl, merged_p.price_dd)"
   ]
  },
  {
   "cell_type": "code",
   "execution_count": 47,
   "metadata": {
    "scrolled": true
   },
   "outputs": [
    {
     "data": {
      "text/plain": [
       "<matplotlib.collections.PathCollection at 0x7f342b2c6090>"
      ]
     },
     "execution_count": 47,
     "metadata": {},
     "output_type": "execute_result"
    },
    {
     "data": {
      "image/png": "[encoded data removed]",
      "text/plain": [
       "<Figure size 432x288 with 1 Axes>"
      ]
     },
     "metadata": {},
     "output_type": "display_data"
    }
   ],
   "source": [
    "dd_pq = dd.dropna(subset = ['price', 'quantity'])\n",
    "plt.scatter(dd_pq.quantity, dd_pq.price)"
   ]
  },
  {
   "cell_type": "code",
   "execution_count": 48,
   "metadata": {},
   "outputs": [
    {
     "data": {
      "text/plain": [
       "<matplotlib.collections.PathCollection at 0x7f342b42be90>"
      ]
     },
     "execution_count": 48,
     "metadata": {},
     "output_type": "execute_result"
    },
    {
     "data": {
      "image/png": "[encoded data removed]",
      "text/plain": [
       "<Figure size 432x288 with 1 Axes>"
      ]
     },
     "metadata": {},
     "output_type": "display_data"
    }
   ],
   "source": [
    "pl_pq = pl.dropna(subset = ['price', 'quantity'])\n",
    "plt.scatter(pl_pq.quantity, pl_pq.price)"
   ]
  },
  {
   "cell_type": "code",
   "execution_count": null,
   "metadata": {},
   "outputs": [],
   "source": []
  }
 ],
 "metadata": {
  "kernelspec": {
   "display_name": "Python 2",
   "language": "python",
   "name": "python2"
  },
  "language_info": {
   "codemirror_mode": {
    "name": "ipython",
    "version": 2
   },
   "file_extension": ".py",
   "mimetype": "text/x-python",
   "name": "python",
   "nbconvert_exporter": "python",
   "pygments_lexer": "ipython2",
   "version": "2.7.15"
  }
 },
 "nbformat": 4,
 "nbformat_minor": 2
}
