{
 "cells": [
  {
   "cell_type": "code",
   "execution_count": 2,
   "metadata": {},
   "outputs": [],
   "source": [
    "from sympy import *"
   ]
  },
  {
   "cell_type": "code",
   "execution_count": 18,
   "metadata": {},
   "outputs": [
    {
     "name": "stdout",
     "output_type": "stream",
     "text": [
      "Matrix([[Pr(z_t=0|z_{t-1}=0), -Pr(z_t=0|z_{t-1}=0) + 1], [Pr(z_t=0|z_{t-1}=1), -Pr(z_t=0|z_{t-1}=1) + 1]])\n",
      "Matrix([[1, (Pr(z_t=0|z_{t-1}=0) - 1)/Pr(z_t=0|z_{t-1}=1)], [1, 1]])\n",
      "Matrix([[1, 0], [0, Pr(z_t=0|z_{t-1}=0) - Pr(z_t=0|z_{t-1}=1)]])\n"
     ]
    }
   ],
   "source": [
    "q = Symbol('Pr(z_t=0|z_{t-1}=0)')\n",
    "p = Symbol('Pr(z_t=0|z_{t-1}=1)')\n",
    "M = Matrix([[q,1-q],[p,1-p]])\n",
    "print M\n",
    "P,D = M.diagonalize()\n",
    "print P\n",
    "print D"
   ]
  },
  {
   "cell_type": "code",
   "execution_count": 21,
   "metadata": {},
   "outputs": [
    {
     "name": "stdout",
     "output_type": "stream",
     "text": [
      "Matrix([[Pr(z_t=0|z_{t-1}=1), -Pr(z_t=0|z_{t-1}=0) + 1], [Pr(z_t=0|z_{t-1}=1), -Pr(z_t=0|z_{t-1}=0) + 1]])\n"
     ]
    }
   ],
   "source": [
    "simplify( P*D*(P**(-1)))\n",
    "D_lim = Matrix([[1,0],[0,0]])\n",
    "M_lim = simplify( P*D_lim*(P**(-1)))\n",
    "#(p + 1-q)"
   ]
  },
  {
   "cell_type": "code",
   "execution_count": 26,
   "metadata": {},
   "outputs": [
    {
     "name": "stdout",
     "output_type": "stream",
     "text": [
      "Matrix([[Pr(z_t=0|z_{t-1}=1)/(-Pr(z_t=0|z_{t-1}=0) + Pr(z_t=0|z_{t-1}=1) + 1), (-Pr(z_t=0|z_{t-1}=0) + 1)/(-Pr(z_t=0|z_{t-1}=0) + Pr(z_t=0|z_{t-1}=1) + 1)]])\n"
     ]
    }
   ],
   "source": [
    "r= Symbol('Pr(z_{t-1}=0)')\n",
    "init = Matrix([[r,1-r]])\n",
    "\n",
    "print simplify( init* M_lim)"
   ]
  },
  {
   "cell_type": "code",
   "execution_count": 16,
   "metadata": {},
   "outputs": [
    {
     "name": "stdout",
     "output_type": "stream",
     "text": [
      "Pr(z_{t-1}=0)\n"
     ]
    }
   ],
   "source": [
    "D_lim2 = Matrix([[1,0],[0,1]])\n",
    "print simplify( init.T * P*D_lim2*(P**(-1)) )[0]"
   ]
  },
  {
   "cell_type": "code",
   "execution_count": 17,
   "metadata": {},
   "outputs": [
    {
     "name": "stdout",
     "output_type": "stream",
     "text": [
      "(Pr(z_t=0|z_{t-1}=1)*(-Pr(z_{t-1}=0) + 1) + Pr(z_t=0|z_{t-1}=1) + Pr(z_{t-1}=0)*(Pr(z_t=0|z_{t-1}=0) - 1))/(-Pr(z_t=0|z_{t-1}=0) + Pr(z_t=0|z_{t-1}=1) + 1)\n"
     ]
    }
   ],
   "source": [
    "D_lim3 = Matrix([[1,0],[0,-1]])\n",
    "print simplify( init.T * P*D_lim3*(P**(-1)) )[0]"
   ]
  },
  {
   "cell_type": "code",
   "execution_count": null,
   "metadata": {},
   "outputs": [],
   "source": []
  }
 ],
 "metadata": {
  "kernelspec": {
   "display_name": "Python 2",
   "language": "python",
   "name": "python2"
  },
  "language_info": {
   "codemirror_mode": {
    "name": "ipython",
    "version": 2
   },
   "file_extension": ".py",
   "mimetype": "text/x-python",
   "name": "python",
   "nbconvert_exporter": "python",
   "pygments_lexer": "ipython2",
   "version": "2.7.15"
  }
 },
 "nbformat": 4,
 "nbformat_minor": 2
}
