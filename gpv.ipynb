{
 "cells": [
  {
   "cell_type": "code",
   "execution_count": 1,
   "metadata": {},
   "outputs": [],
   "source": [
    "import pandas as pd\n",
    "import math\n",
    "import numpy as np\n",
    "import statsmodels.api as sm\n",
    "import matplotlib.pyplot as plt\n",
    "from scipy.stats import norm\n",
    "from scipy.stats import uniform\n",
    "from scipy.stats import rv_continuous"
   ]
  },
  {
   "cell_type": "code",
   "execution_count": 18,
   "metadata": {},
   "outputs": [
    {
     "name": "stdout",
     "output_type": "stream",
     "text": [
      "-1.3358232186158807\n",
      "-1.3358232186158807\n"
     ]
    }
   ],
   "source": [
    "def create_costs(mean,var):\n",
    "    \"\"\"create a cost function using scipy norm\"\"\"\n",
    "    costs = rv_continuous()\n",
    "    costs.pdf = lambda x: norm.pdf(x, loc=mean,scale=var)\n",
    "    costs.cdf = lambda x: norm.cdf(x, loc=mean,scale=var)\n",
    "    costs.rv =  lambda x: norm.rvs(loc=mean,scale=var,size=x)\n",
    "    return costs\n",
    "\n",
    "\n",
    "def calc_bid(vi, p, i, cost, nsims=20):\n",
    "    \"\"\"calculate bids based on vi and p\"\"\"\n",
    "    \n",
    "    n = len(vi)\n",
    "    vi_tile = np.maximum(vi, p)\n",
    "    vi_tile = np.repeat(vi_tile,nsims)\n",
    "    p_tile = np.tile(p, n*nsims) #tile p for saftey\n",
    "    \n",
    "    sims = uniform.rvs(loc=p_tile, scale=vi_tile)\n",
    "    sims = sims.reshape(n, nsims)\n",
    "    \n",
    "    integral = (vi>=p)*(cost.cdf(sims)**(i-1)).mean(axis=1)\n",
    "    bids =  vi - integral/(cost.cdf(vi))**(i-1)\n",
    "    \n",
    "    print vi.min()\n",
    "    print bids.min()\n",
    "    \n",
    "    return bids\n",
    "\n",
    "\n",
    "def sim_auction(p,i,n,cost,nsims=20):\n",
    "    \"\"\"simulate auction data\"\"\"\n",
    "    values = cost.rvs(size=(i*n)) #clip rhs of distribution\n",
    "    bids = calc_bid(values,p,i,cost,nsims)\n",
    "    return values, bids\n",
    "    \n",
    "\n",
    "P = .5\n",
    "COST = create_costs(1.8,1)\n",
    "I=2\n",
    "\n",
    "\n",
    "values, bids = sim_auction(P,I, 100, COST,100)"
   ]
  },
  {
   "cell_type": "code",
   "execution_count": 17,
   "metadata": {},
   "outputs": [
    {
     "name": "stdout",
     "output_type": "stream",
     "text": [
      "-1.5404971462769035\n",
      "-1.5404971462769035\n",
      "-1.5404971462769035 -1.5404971462769035\n"
     ]
    },
    {
     "data": {
      "image/png": "[encoded data removed]",
      "text/plain": [
       "<Figure size 432x288 with 1 Axes>"
      ]
     },
     "metadata": {},
     "output_type": "display_data"
    }
   ],
   "source": [
    "P = 0\n",
    "COST = create_costs(1.8,1)\n",
    "I=7\n",
    "\n",
    "values, bids = sim_auction(P,I, 100, COST, 100)\n",
    "\n",
    "print values.min(),bids.min()\n",
    "\n",
    "bdens = sm.nonparametric.KDEUnivariate(bids)\n",
    "vdens = sm.nonparametric.KDEUnivariate(values)\n",
    "\n",
    "bdens.fit()\n",
    "vdens.fit()\n",
    "\n",
    "plt.plot(bdens.support, bdens.density, label='bids') #.cdf does cdf\n",
    "plt.plot(vdens.support, vdens.density, label='values')\n",
    "plt.legend()\n",
    "plt.show()"
   ]
  },
  {
   "cell_type": "code",
   "execution_count": null,
   "metadata": {},
   "outputs": [],
   "source": []
  },
  {
   "cell_type": "code",
   "execution_count": null,
   "metadata": {},
   "outputs": [],
   "source": []
  }
 ],
 "metadata": {
  "kernelspec": {
   "display_name": "Python 2",
   "language": "python",
   "name": "python2"
  },
  "language_info": {
   "codemirror_mode": {
    "name": "ipython",
    "version": 2
   },
   "file_extension": ".py",
   "mimetype": "text/x-python",
   "name": "python",
   "nbconvert_exporter": "python",
   "pygments_lexer": "ipython2",
   "version": "2.7.15"
  }
 },
 "nbformat": 4,
 "nbformat_minor": 2
}
