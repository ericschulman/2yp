{
 "cells": [
  {
   "cell_type": "code",
   "execution_count": 1,
   "metadata": {},
   "outputs": [],
   "source": [
    "import pandas\n",
    "import math\n",
    "import numpy as np\n",
    "import matplotlib.pyplot as plt\n",
    "import statsmodels.api as sm\n",
    "\n",
    "FNAME = 'data/F_N_16_120.csv'\n",
    "df = pandas.read_csv(FNAME)\n",
    "print df"
   ]
  },
  {
   "cell_type": "code",
   "execution_count": 4,
   "metadata": {},
   "outputs": [
    {
     "name": "stdout",
     "output_type": "stream",
     "text": [
      "    brand_cm  oz_cm dairy_cm flavor_cm  region_cm  week  price_cm  \\\n",
      "0         CM     16        N         F        120     0       NaN   \n",
      "1         CM     16        N         F        120     1      2.80   \n",
      "2         CM     16        N         F        120     2      2.30   \n",
      "3         CM     16        N         F        120     3      2.30   \n",
      "4         CM     16        N         F        120     4      2.80   \n",
      "5         CM     16        N         F        120     5      2.80   \n",
      "6         CM     16        N         F        120     6      2.80   \n",
      "7         CM     16        N         F        120     7      2.80   \n",
      "8         CM     16        N         F        120     8      2.75   \n",
      "9         CM     16        N         F        120     9      2.80   \n",
      "10        CM     16        N         F        120    10      2.40   \n",
      "11        CM     16        N         F        120    11      2.40   \n",
      "12        CM     16        N         F        120    12      2.80   \n",
      "13        CM     16        N         F        120    13      2.80   \n",
      "14        CM     16        N         F        120    14      2.80   \n",
      "15        CM     16        N         F        120    15      2.80   \n",
      "16        CM     16        N         F        120    16      2.80   \n",
      "17        CM     16        N         F        120    17      2.50   \n",
      "18        CM     16        N         F        120    18      2.50   \n",
      "19        CM     16        N         F        120    19      2.80   \n",
      "20        CM     16        N         F        120    20      2.80   \n",
      "21        CM     16        N         F        120    21      2.80   \n",
      "22        CM     16        N         F        120    22      2.80   \n",
      "23        CM     16        N         F        120    23      2.80   \n",
      "24        CM     16        N         F        120    24      2.80   \n",
      "25        CM     16        N         F        120    25      2.80   \n",
      "26        CM     16        N         F        120    26      2.80   \n",
      "27        CM     16        N         F        120    27      2.80   \n",
      "28        CM     16        N         F        120    28      2.80   \n",
      "29        CM     16        N         F        120    29      2.80   \n",
      "..       ...    ...      ...       ...        ...   ...       ...   \n",
      "127       CM     16        N         F        120   127      2.00   \n",
      "128       CM     16        N         F        120   128      2.70   \n",
      "129       CM     16        N         F        120   129      2.70   \n",
      "130       CM     16        N         F        120   130      2.70   \n",
      "131       CM     16        N         F        120   131      2.70   \n",
      "132       CM     16        N         F        120   132      2.70   \n",
      "133       CM     16        N         F        120   133      2.70   \n",
      "134       CM     16        N         F        120   134      2.70   \n",
      "135       CM     16        N         F        120   135      2.70   \n",
      "136       CM     16        N         F        120   136      2.00   \n",
      "137       CM     16        N         F        120   137      2.50   \n",
      "138       CM     16        N         F        120   138      2.45   \n",
      "139       CM     16        N         F        120   139      2.50   \n",
      "140       CM     16        N         F        120   140      2.60   \n",
      "141       CM     16        N         F        120   141      2.50   \n",
      "142       CM     16        N         F        120   142      2.70   \n",
      "143       CM     16        N         F        120   143      2.70   \n",
      "144       CM     16        N         F        120   144      2.70   \n",
      "145       CM     16        N         F        120   145      2.00   \n",
      "146       CM     16        N         F        120   146      2.70   \n",
      "147       CM     16        N         F        120   147      2.70   \n",
      "148       CM     16        N         F        120   148      2.00   \n",
      "149       CM     16        N         F        120   149      2.70   \n",
      "150       CM     16        N         F        120   150      2.70   \n",
      "151       CM     16        N         F        120   151      2.70   \n",
      "152       CM     16        N         F        120   152      2.70   \n",
      "153       CM     16        N         F        120   153      2.70   \n",
      "154       CM     16        N         F        120   154      2.70   \n",
      "155       CM     16        N         F        120   155      2.70   \n",
      "156       CM     16        N         F        120   156      2.70   \n",
      "\n",
      "     quantity_cm brand_id  oz_id dairy_id flavor_id  region_id  price_id  \\\n",
      "0            NaN       ID     16        N         F        120       NaN   \n",
      "1        86292.0       ID     16        N         F        120      2.35   \n",
      "2       122904.0       ID     16        N         F        120      2.35   \n",
      "3       114264.0       ID     16        N         F        120      2.35   \n",
      "4        96768.0       ID     16        N         F        120      1.65   \n",
      "5       105354.0       ID     16        N         F        120      1.70   \n",
      "6        97362.0       ID     16        N         F        120      2.35   \n",
      "7        96174.0       ID     16        N         F        120      1.70   \n",
      "8       116532.0       ID     16        N         F        120      1.65   \n",
      "9        90936.0       ID     16        N         F        120      2.35   \n",
      "10      123282.0       ID     16        N         F        120      2.35   \n",
      "11      156600.0       ID     16        N         F        120      2.35   \n",
      "12       93042.0       ID     16        N         F        120      2.00   \n",
      "13      115236.0       ID     16        N         F        120      2.00   \n",
      "14       81270.0       ID     16        N         F        120      2.35   \n",
      "15       82296.0       ID     16        N         F        120      2.35   \n",
      "16       91260.0       ID     16        N         F        120      2.50   \n",
      "17      153738.0       ID     16        N         F        120      2.50   \n",
      "18      128466.0       ID     16        N         F        120      2.50   \n",
      "19       75600.0       ID     16        N         F        120      2.00   \n",
      "20       79974.0       ID     16        N         F        120      2.00   \n",
      "21       86508.0       ID     16        N         F        120      2.50   \n",
      "22       71874.0       ID     16        N         F        120      2.50   \n",
      "23       71334.0       ID     16        N         F        120      2.50   \n",
      "24       77922.0       ID     16        N         F        120      2.50   \n",
      "25       78354.0       ID     16        N         F        120      1.70   \n",
      "26       82836.0       ID     16        N         F        120      1.70   \n",
      "27      100440.0       ID     16        N         F        120      2.50   \n",
      "28       90180.0       ID     16        N         F        120      2.50   \n",
      "29       82296.0       ID     16        N         F        120      2.50   \n",
      "..           ...      ...    ...      ...       ...        ...       ...   \n",
      "127     264600.0       ID     16        N         F        120      2.00   \n",
      "128     117450.0       ID     16        N         F        120      2.60   \n",
      "129     121824.0       ID     16        N         F        120      2.60   \n",
      "130     145800.0       ID     16        N         F        120      2.60   \n",
      "131     125604.0       ID     16        N         F        120      2.60   \n",
      "132     128844.0       ID     16        N         F        120      2.60   \n",
      "133     132894.0       ID     16        N         F        120      2.60   \n",
      "134     140238.0       ID     16        N         F        120      2.60   \n",
      "135     124794.0       ID     16        N         F        120      2.60   \n",
      "136     193590.0       ID     16        N         F        120      2.60   \n",
      "137     199260.0       ID     16        N         F        120      2.60   \n",
      "138     140400.0       ID     16        N         F        120      2.60   \n",
      "139     106596.0       ID     16        N         F        120      2.60   \n",
      "140      88884.0       ID     16        N         F        120      2.60   \n",
      "141      80136.0       ID     16        N         F        120      2.00   \n",
      "142      48222.0       ID     16        N         F        120      2.60   \n",
      "143      52380.0       ID     16        N         F        120      2.60   \n",
      "144      50652.0       ID     16        N         F        120      2.60   \n",
      "145     109080.0       ID     16        N         F        120      2.60   \n",
      "146      59778.0       ID     16        N         F        120      2.00   \n",
      "147      46494.0       ID     16        N         F        120      2.00   \n",
      "148      66528.0       ID     16        N         F        120      2.60   \n",
      "149      57510.0       ID     16        N         F        120      2.00   \n",
      "150      62802.0       ID     16        N         F        120      2.60   \n",
      "151      63558.0       ID     16        N         F        120      2.60   \n",
      "152      53892.0       ID     16        N         F        120      2.60   \n",
      "153      45360.0       ID     16        N         F        120      2.60   \n",
      "154      58536.0       ID     16        N         F        120      2.60   \n",
      "155      63720.0       ID     16        N         F        120      2.00   \n",
      "156      72846.0       ID     16        N         F        120      2.60   \n",
      "\n",
      "     quantity_id  \n",
      "0            NaN  \n",
      "1       149416.0  \n",
      "2       160512.0  \n",
      "3       180272.0  \n",
      "4       684456.0  \n",
      "5       382964.0  \n",
      "6       179626.0  \n",
      "7       404776.0  \n",
      "8       630952.0  \n",
      "9       210710.0  \n",
      "10      219488.0  \n",
      "11      263226.0  \n",
      "12      508288.0  \n",
      "13      558524.0  \n",
      "14      188100.0  \n",
      "15      201476.0  \n",
      "16      224352.0  \n",
      "17      258210.0  \n",
      "18      232826.0  \n",
      "19      514748.0  \n",
      "20      448628.0  \n",
      "21      227430.0  \n",
      "22      159448.0  \n",
      "23      168872.0  \n",
      "24      197486.0  \n",
      "25      533216.0  \n",
      "26      538764.0  \n",
      "27      143374.0  \n",
      "28      230888.0  \n",
      "29      246278.0  \n",
      "..           ...  \n",
      "127     341734.0  \n",
      "128     119586.0  \n",
      "129     128250.0  \n",
      "130     145616.0  \n",
      "131     143374.0  \n",
      "132     129086.0  \n",
      "133     151506.0  \n",
      "134     151658.0  \n",
      "135     126768.0  \n",
      "136     133456.0  \n",
      "137     146908.0  \n",
      "138     132962.0  \n",
      "139     124792.0  \n",
      "140     147554.0  \n",
      "141     274360.0  \n",
      "142     121980.0  \n",
      "143     131100.0  \n",
      "144     130188.0  \n",
      "145     155952.0  \n",
      "146     465158.0  \n",
      "147     242098.0  \n",
      "148     105450.0  \n",
      "149     296324.0  \n",
      "150     159068.0  \n",
      "151     166060.0  \n",
      "152     152228.0  \n",
      "153     120118.0  \n",
      "154     135014.0  \n",
      "155     264822.0  \n",
      "156     190836.0  \n",
      "\n",
      "[157 rows x 15 columns]\n"
     ]
    }
   ],
   "source": [
    "cm = df[df.brand == 'CM']\n",
    "Id = df[df.brand == 'ID']\n",
    "merged = cm.merge(Id, on='week', how='inner', suffixes = ('_cm','_id'))\n",
    "print merged"
   ]
  },
  {
   "cell_type": "code",
   "execution_count": 6,
   "metadata": {},
   "outputs": [
    {
     "data": {
      "text/plain": [
       "<matplotlib.collections.PathCollection at 0x7fac245c80d0>"
      ]
     },
     "execution_count": 6,
     "metadata": {},
     "output_type": "execute_result"
    },
    {
     "data": {
      "image/png": "[encoded data removed]",
      "text/plain": [
       "<Figure size 432x288 with 1 Axes>"
      ]
     },
     "metadata": {},
     "output_type": "display_data"
    }
   ],
   "source": [
    "merged_q = merged.dropna(subset = ['quantity_id', 'quantity_cm'])\n",
    "plt.scatter(merged_q.quantity_id, merged_q.quantity_cm)"
   ]
  },
  {
   "cell_type": "code",
   "execution_count": 7,
   "metadata": {},
   "outputs": [
    {
     "data": {
      "text/plain": [
       "<matplotlib.collections.PathCollection at 0x7fac2467b890>"
      ]
     },
     "execution_count": 7,
     "metadata": {},
     "output_type": "execute_result"
    },
    {
     "data": {
      "image/png": "[encoded data removed]",
      "text/plain": [
       "<Figure size 432x288 with 1 Axes>"
      ]
     },
     "metadata": {},
     "output_type": "display_data"
    }
   ],
   "source": [
    "merged_p = merged.dropna(subset = ['price_id', 'price_cm'])\n",
    "plt.scatter(merged_p.price_id, merged_p.price_cm)"
   ]
  },
  {
   "cell_type": "code",
   "execution_count": 9,
   "metadata": {
    "scrolled": true
   },
   "outputs": [
    {
     "data": {
      "text/plain": [
       "<matplotlib.collections.PathCollection at 0x7fac213e0350>"
      ]
     },
     "execution_count": 9,
     "metadata": {},
     "output_type": "execute_result"
    },
    {
     "data": {
      "image/png": "[encoded data removed]",
      "text/plain": [
       "<Figure size 432x288 with 1 Axes>"
      ]
     },
     "metadata": {},
     "output_type": "display_data"
    }
   ],
   "source": [
    "cm_pq = cm.dropna(subset = ['price', 'quantity'])\n",
    "plt.scatter(cm_pq.quantity, cm_pq.price)"
   ]
  },
  {
   "cell_type": "code",
   "execution_count": 8,
   "metadata": {},
   "outputs": [
    {
     "data": {
      "text/plain": [
       "<matplotlib.collections.PathCollection at 0x7fac24925590>"
      ]
     },
     "execution_count": 8,
     "metadata": {},
     "output_type": "execute_result"
    },
    {
     "data": {
      "image/png": "[encoded data removed]",
      "text/plain": [
       "<Figure size 432x288 with 1 Axes>"
      ]
     },
     "metadata": {},
     "output_type": "display_data"
    }
   ],
   "source": [
    "id_pq = Id.dropna(subset = ['price', 'quantity'])\n",
    "plt.scatter(id_pq.quantity, id_pq.price)"
   ]
  },
  {
   "cell_type": "code",
   "execution_count": null,
   "metadata": {},
   "outputs": [],
   "source": []
  }
 ],
 "metadata": {
  "kernelspec": {
   "display_name": "Python 2",
   "language": "python",
   "name": "python2"
  },
  "language_info": {
   "codemirror_mode": {
    "name": "ipython",
    "version": 2
   },
   "file_extension": ".py",
   "mimetype": "text/x-python",
   "name": "python",
   "nbconvert_exporter": "python",
   "pygments_lexer": "ipython2",
   "version": "2.7.15"
  }
 },
 "nbformat": 4,
 "nbformat_minor": 2
}
