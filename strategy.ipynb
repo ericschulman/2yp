{
 "cells": [
  {
   "cell_type": "code",
   "execution_count": 1,
   "metadata": {},
   "outputs": [],
   "source": [
    "from sympy import *"
   ]
  },
  {
   "cell_type": "code",
   "execution_count": 26,
   "metadata": {},
   "outputs": [
    {
     "data": {
      "text/plain": [
       "[{V(0,1): \\delta*(-Pr(\\epsilon < a)*V(0,0) + Pr(\\epsilon < a)*V(1,1) - Pr(\\epsilon < a)*\\epsilon - Pr(\\epsilon < a)*u(1,0) - Pr(\\epsilon > b)*V(0,0) - Pr(\\epsilon > b)*\\epsilon - Pr(\\epsilon > b)*u(1,0) + Pr(\\epsilon > c)*V(0,0) + V(0,0) + \\epsilon + u(1,0))}]"
      ]
     },
     "execution_count": 26,
     "metadata": {},
     "output_type": "execute_result"
    }
   ],
   "source": [
    "v1 = Symbol('V(1,0)')\n",
    "v2 = Symbol('V(0,1)')\n",
    "v3 = Symbol('V(1,1)')\n",
    "v4 = Symbol('V(0,0)')\n",
    "eps = Symbol('\\epsilon')\n",
    "delta = Symbol('\\delta')\n",
    "u1 = Symbol('u(1,0)')\n",
    "u2 = Symbol('u(1,1)')\n",
    "r = Symbol('Pr(\\epsilon < a)') # greater than a i.e. price war\n",
    "s = Symbol('Pr(\\epsilon > b)') # less than b i.e. no entry\n",
    "q = 1 - r - s\n",
    "t = Symbol('Pr(\\epsilon > c)') # i.e. no entry after price war\n",
    "\n",
    "eq1 = (u1 + eps) + delta*(q*v2+ r*v3 + t*v4) - v1\n",
    "eq2 = delta*(q*v1+ r*v3 + t*v4) - v2\n",
    "eq3 = (u2 + eps) + delta*(t*v3 + (1-t)*v4) - v3\n",
    "eq4 = delta*(q*v2 + r*v3 + s*v4) - v4\n",
    "\n",
    "eq5 = v4 - (u1 + eps)\n",
    "\n",
    "solve(eq2.subs({v1:(v4 + (u1 + eps))}),eq3.subs({v1:(v4 + (u1 + eps))}), v2)"
   ]
  },
  {
   "cell_type": "code",
   "execution_count": 54,
   "metadata": {},
   "outputs": [
    {
     "name": "stdout",
     "output_type": "stream",
     "text": [
      "-V(0,1) + \\delta*(Pr(\\epsilon < a)*V(1,1) + Pr(\\epsilon > c)*V(0,0) + (-Pr(\\epsilon < a) - Pr(\\epsilon > b) + 1)*(V(0,0) + \\epsilon + u(1,0)))\n",
      "-----\n",
      "(Pr(\\epsilon > c)*V(1,1)*\\delta - V(1,1) + \\epsilon + u(1,1))/(\\delta*(Pr(\\epsilon > c) - 1))\n",
      "----\n",
      "-V(0,1) + \\delta*(Pr(\\epsilon < a)*V(1,1) + Pr(\\epsilon > c)*V(0,0) + (-Pr(\\epsilon < a) - Pr(\\epsilon > b) + 1)*(V(0,0) + \\epsilon + u(1,0)))\n",
      "----\n",
      "-V(0,1) + \\delta*(Pr(\\epsilon < a)*V(1,1) + Pr(\\epsilon > c)*(Pr(\\epsilon > c)*V(1,1)*\\delta - V(1,1) + \\epsilon + u(1,1))/(\\delta*(Pr(\\epsilon > c) - 1)) + (-Pr(\\epsilon < a) - Pr(\\epsilon > b) + 1)*(\\epsilon + u(1,0) + (Pr(\\epsilon > c)*V(1,1)*\\delta - V(1,1) + \\epsilon + u(1,1))/(\\delta*(Pr(\\epsilon > c) - 1))))\n",
      "----\n",
      "-(Pr(\\epsilon < a)*Pr(\\epsilon > c)*\\delta*\\epsilon + Pr(\\epsilon < a)*Pr(\\epsilon > c)*\\delta*u(1,0) + Pr(\\epsilon < a)*V(1,1)*\\delta - Pr(\\epsilon < a)*V(1,1) - Pr(\\epsilon < a)*\\delta*\\epsilon - Pr(\\epsilon < a)*\\delta*u(1,0) + Pr(\\epsilon < a)*\\epsilon + Pr(\\epsilon < a)*u(1,1) + Pr(\\epsilon > b)*Pr(\\epsilon > c)*V(1,1)*\\delta + Pr(\\epsilon > b)*Pr(\\epsilon > c)*\\delta*\\epsilon + Pr(\\epsilon > b)*Pr(\\epsilon > c)*\\delta*u(1,0) - Pr(\\epsilon > b)*V(1,1) - Pr(\\epsilon > b)*\\delta*\\epsilon - Pr(\\epsilon > b)*\\delta*u(1,0) + Pr(\\epsilon > b)*\\epsilon + Pr(\\epsilon > b)*u(1,1) - Pr(\\epsilon > c)**2*V(1,1)*\\delta - Pr(\\epsilon > c)*V(1,1)*\\delta + Pr(\\epsilon > c)*V(1,1) - Pr(\\epsilon > c)*\\delta*\\epsilon - Pr(\\epsilon > c)*\\delta*u(1,0) - Pr(\\epsilon > c)*\\epsilon - Pr(\\epsilon > c)*u(1,1) + V(1,1) + \\delta*\\epsilon + \\delta*u(1,0) - \\epsilon - u(1,1))/(Pr(\\epsilon > c) - 1)\n"
     ]
    }
   ],
   "source": [
    "print eq2.subs({v1:(v4 + (u1 + eps))})\n",
    "print '-----'\n",
    "step1 = solve(eq3.subs({v1:(v4 + (u1 + eps))}),v4)\n",
    "print step1[0]\n",
    "print '----'\n",
    "step2 = eq2.subs({v1:(v4 + (u1 + eps))})\n",
    "print step2\n",
    "print '----'\n",
    "print step2.subs({v4:step1[0]}) #this inequality tells me when to switch i guess\n",
    "print '----'\n",
    "print factor(expand(simplify(solve(step2.subs({v4:step1[0]}),v2)[0])))"
   ]
  },
  {
   "cell_type": "code",
   "execution_count": null,
   "metadata": {},
   "outputs": [],
   "source": []
  }
 ],
 "metadata": {
  "kernelspec": {
   "display_name": "Python 2",
   "language": "python",
   "name": "python2"
  },
  "language_info": {
   "codemirror_mode": {
    "name": "ipython",
    "version": 2
   },
   "file_extension": ".py",
   "mimetype": "text/x-python",
   "name": "python",
   "nbconvert_exporter": "python",
   "pygments_lexer": "ipython2",
   "version": "2.7.15"
  }
 },
 "nbformat": 4,
 "nbformat_minor": 2
}
