{
 "cells": [
  {
   "cell_type": "code",
   "execution_count": 1,
   "metadata": {},
   "outputs": [],
   "source": [
    "from sympy import *"
   ]
  },
  {
   "cell_type": "code",
   "execution_count": 16,
   "metadata": {},
   "outputs": [],
   "source": [
    "v1 = Symbol('V(1,0)')\n",
    "v2 = Symbol('V(0,1)')\n",
    "v3 = Symbol('V(1,1)')\n",
    "v4 = Symbol('V(0,0)')\n",
    "delta = Symbol('\\delta')\n",
    "u1 = Symbol('(u(1,0) + \\epsilon)')\n",
    "u2 = Symbol('(u(1,1) + \\epsilon)')\n",
    "r = Symbol('Pr(\\epsilon < a)') # greater than a i.e. price war\n",
    "s = Symbol('Pr(\\epsilon > b)') # less than b i.e. no entry\n",
    "q = Symbol('Pr(a < \\epsilon < b)')\n",
    "t = Symbol('Pr(\\epsilon > c)') # i.e. no entry after price war\n",
    "\n",
    "eq1 = (u1) + delta*(q*v2+ r*v3 + s*v4) - v1\n",
    "eq2 = delta*(q*v1+ r*v3 + s*v4) - v2\n",
    "eq3 = (u2) + delta*(t*v3 + (1-t)*v4) - v3\n",
    "eq4 = delta*(q*(v2+v1)/2 + r*v3 + s*v4) - v4"
   ]
  },
  {
   "cell_type": "code",
   "execution_count": 83,
   "metadata": {},
   "outputs": [
    {
     "name": "stdout",
     "output_type": "stream",
     "text": [
      "(-(u(1,0) + \\epsilon) + Pr(a < \\epsilon < b)*V(1,0)*\\delta + V(1,0))/(Pr(a < \\epsilon < b)*\\delta + 1)\n",
      "----\n",
      "((u(1,0) + \\epsilon)*(Pr(a < \\epsilon < b)*\\delta/2 + 1) + V(0,0)*(Pr(a < \\epsilon < b)*\\delta + 1) + V(1,0)*(-Pr(a < \\epsilon < b)*\\delta - 1))/(Pr(a < \\epsilon < b)*\\delta + 1)\n",
      "----\n"
     ]
    }
   ],
   "source": [
    "#solve for v2 in terms of v1\n",
    "step1 = collect(collect(simplify(eq1-eq2),v1),v2)\n",
    "step1 = solve(step1,v2)[0]\n",
    "print(step1)\n",
    "print('----')\n",
    "\n",
    "#v1 in terms of v4 inequality\n",
    "step2 = collect(collect(collect(simplify((eq1-eq4).subs({v2:step1})),v1),v4),u1)\n",
    "print(step2)\n",
    "print('----')"
   ]
  },
  {
   "cell_type": "code",
   "execution_count": 91,
   "metadata": {},
   "outputs": [
    {
     "name": "stdout",
     "output_type": "stream",
     "text": [
      "((u(1,0) + \\epsilon) + Pr(a < \\epsilon < b)*V(0,1)*\\delta + V(0,1))/(Pr(a < \\epsilon < b)*\\delta + 1)\n",
      "-------\n",
      "(-(u(1,0) + \\epsilon)*Pr(a < \\epsilon < b)*\\delta/2 + V(0,1)*(Pr(a < \\epsilon < b)*\\delta + 1))/(Pr(a < \\epsilon < b)*\\delta + 1)\n",
      "-------\n",
      "((u(1,0) + \\epsilon)*Pr(a < \\epsilon < b)*\\delta**2*(Pr(\\epsilon > c) - 1)/2 - V(0,1)*\\delta*(Pr(\\epsilon > c)*Pr(a < \\epsilon < b)*\\delta + Pr(\\epsilon > c) - Pr(a < \\epsilon < b)*\\delta - 1) + ((u(1,1) + \\epsilon) + V(1,1)*(Pr(\\epsilon > c)*\\delta - 1))*(Pr(a < \\epsilon < b)*\\delta + 1))/(Pr(a < \\epsilon < b)*\\delta + 1)\n"
     ]
    }
   ],
   "source": [
    "#solve for v1 in terms of v2\n",
    "step1 = collect(collect(simplify(eq1-eq2),v2),v1)\n",
    "step1 = solve(step1,v1)[0]\n",
    "print(step1)\n",
    "print('-------')\n",
    "#solve for v4 in terms of v2\n",
    "step2 = simplify(collect(solve(simplify(eq4 -eq2).subs({v1:step1}),v4)[0],v2))\n",
    "print(step2)\n",
    "print('-------')\n",
    "#substitute v4 into eq3\n",
    "step3 = eq3.subs({v4:step2})\n",
    "step3 = simplify(collect(collect(collect(collect(expand(step3),u1),u2),v3),v2))\n",
    "print(step3)"
   ]
  },
  {
   "cell_type": "code",
   "execution_count": 50,
   "metadata": {},
   "outputs": [
    {
     "name": "stdout",
     "output_type": "stream",
     "text": [
      "V(1,0)\n",
      "-((u(1,0) + \\epsilon)*(Pr(\\epsilon > c) - 1) + (u(1,1) + \\epsilon)*Pr(\\epsilon > b)*(Pr(a < \\epsilon < b)*\\delta + 1) + V(1,1)*(Pr(\\epsilon < a)*Pr(\\epsilon > c)*Pr(a < \\epsilon < b)*\\delta**2 + Pr(\\epsilon < a)*Pr(\\epsilon > c)*\\delta - Pr(\\epsilon < a)*Pr(a < \\epsilon < b)*\\delta**2 - Pr(\\epsilon < a)*\\delta + Pr(\\epsilon > b)*Pr(\\epsilon > c)*Pr(a < \\epsilon < b)*\\delta**2 + Pr(\\epsilon > b)*Pr(\\epsilon > c)*\\delta - Pr(\\epsilon > b)*Pr(a < \\epsilon < b)*\\delta - Pr(\\epsilon > b)))/(Pr(\\epsilon > c)*Pr(a < \\epsilon < b)**2*\\delta**2 - Pr(\\epsilon > c) - Pr(a < \\epsilon < b)**2*\\delta**2 + 1) \n",
      "----\n",
      "\n",
      "V(0,1)\n",
      "-((u(1,0) + \\epsilon)*Pr(a < \\epsilon < b)*\\delta*(Pr(\\epsilon > c) - 1) + (u(1,1) + \\epsilon)*Pr(\\epsilon > b)*(Pr(a < \\epsilon < b)*\\delta + 1) + V(1,1)*(Pr(\\epsilon < a)*Pr(\\epsilon > c)*Pr(a < \\epsilon < b)*\\delta**2 + Pr(\\epsilon < a)*Pr(\\epsilon > c)*\\delta - Pr(\\epsilon < a)*Pr(a < \\epsilon < b)*\\delta**2 - Pr(\\epsilon < a)*\\delta + Pr(\\epsilon > b)*Pr(\\epsilon > c)*Pr(a < \\epsilon < b)*\\delta**2 + Pr(\\epsilon > b)*Pr(\\epsilon > c)*\\delta - Pr(\\epsilon > b)*Pr(a < \\epsilon < b)*\\delta - Pr(\\epsilon > b)))/(Pr(\\epsilon > c)*Pr(a < \\epsilon < b)**2*\\delta**2 - Pr(\\epsilon > c) - Pr(a < \\epsilon < b)**2*\\delta**2 + 1) \n",
      "----\n",
      "\n",
      "V(0,0)\n",
      "((u(1,1) + \\epsilon) + V(1,1)*(Pr(\\epsilon > c)*\\delta - 1))/(\\delta*(Pr(\\epsilon > c) - 1)) \n",
      "----\n",
      "\n"
     ]
    }
   ],
   "source": [
    "#print(simplify(eq1 - eq2))\n",
    "result = solve([eq1,eq2,eq3],[v1,v2,v4])\n",
    "for i in result:\n",
    "    print(i)\n",
    "    exp = simplify(collect(collect(collect(expand(result[i]),v3),u1),u2))\n",
    "    print(exp,'\\n----\\n')"
   ]
  },
  {
   "cell_type": "code",
   "execution_count": 21,
   "metadata": {},
   "outputs": [
    {
     "name": "stdout",
     "output_type": "stream",
     "text": [
      "(u(1,0) + \\epsilon) + V(0,0)\n",
      "-------\n",
      "-\\delta*(Pr(\\epsilon < a)*V(1,1) + Pr(a < \\epsilon < b)*V(0,1))/(Pr(\\epsilon > b)*\\delta - 1)\n",
      "------\n",
      "(u(1,0) + \\epsilon)*Pr(a < \\epsilon < b)*\\delta + V(0,1)*(-Pr(\\epsilon > c)*Pr(a < \\epsilon < b)*\\delta**2/(Pr(\\epsilon > b)*\\delta - 1) - Pr(a < \\epsilon < b)**2*\\delta**2/(Pr(\\epsilon > b)*\\delta - 1) - 1) + V(1,1)*(-Pr(\\epsilon < a)*Pr(\\epsilon > c)*\\delta**2/(Pr(\\epsilon > b)*\\delta - 1) - Pr(\\epsilon < a)*Pr(a < \\epsilon < b)*\\delta**2/(Pr(\\epsilon > b)*\\delta - 1) + Pr(\\epsilon < a)*\\delta)\n",
      "-----\n",
      "Pr(a < \\epsilon < b)*\\delta \n",
      "---\n",
      " -Pr(\\epsilon > c)*Pr(a < \\epsilon < b)*\\delta**2/(Pr(\\epsilon > b)*\\delta - 1) - Pr(a < \\epsilon < b)**2*\\delta**2/(Pr(\\epsilon > b)*\\delta - 1) - 1 \n",
      "---\n",
      " -Pr(\\epsilon < a)*Pr(\\epsilon > c)*\\delta**2/(Pr(\\epsilon > b)*\\delta - 1) - Pr(\\epsilon < a)*Pr(a < \\epsilon < b)*\\delta**2/(Pr(\\epsilon > b)*\\delta - 1) + Pr(\\epsilon < a)*\\delta\n"
     ]
    }
   ],
   "source": [
    "## v1 in terms of v4\n",
    "step1 = solve(simplify(eq1 - eq4),v1)[0]\n",
    "print(step1)\n",
    "print('-------')\n",
    "#solve for v4 in terms of v2, v3\n",
    "step2 =solve(eq4,v4)[0]\n",
    "print(step2)\n",
    "print('------')\n",
    "#plug into eq2\n",
    "step3 = eq2.subs({v1:step1})\n",
    "step3 = step3.subs({v4:step2})\n",
    "step3 = collect(collect(collect(expand(step3),v2),v3),u2)\n",
    "print(step3)\n",
    "print('-----')\n",
    "print(step3.coeff(u1),'\\n---\\n',step3.coeff(v2),'\\n---\\n',step3.coeff(v3))"
   ]
  },
  {
   "cell_type": "code",
   "execution_count": null,
   "metadata": {},
   "outputs": [],
   "source": []
  }
 ],
 "metadata": {
  "kernelspec": {
   "display_name": "Python 3 (ipykernel)",
   "language": "python",
   "name": "python3"
  },
  "language_info": {
   "codemirror_mode": {
    "name": "ipython",
    "version": 3
   },
   "file_extension": ".py",
   "mimetype": "text/x-python",
   "name": "python",
   "nbconvert_exporter": "python",
   "pygments_lexer": "ipython3",
   "version": "3.9.7"
  }
 },
 "nbformat": 4,
 "nbformat_minor": 2
}
