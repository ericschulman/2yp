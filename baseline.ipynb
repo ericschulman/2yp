{
 "cells": [
  {
   "cell_type": "code",
   "execution_count": 1,
   "metadata": {},
   "outputs": [],
   "source": [
    "import pandas as pd\n",
    "import math\n",
    "import numpy as np\n",
    "import statsmodels.api as sm\n",
    "import matplotlib.pyplot as plt\n",
    "\n",
    "from scipy.interpolate import interp1d #pre written interpolation function"
   ]
  },
  {
   "cell_type": "code",
   "execution_count": 64,
   "metadata": {},
   "outputs": [],
   "source": [
    "BETA = .9\n",
    "GAMMA = .5772 #euler's constant\n",
    "THETA = 1.1\n",
    "N = 7\n",
    "BIDS = np.arange(1,16)\n",
    "STATES = np.arange(1,11)"
   ]
  },
  {
   "cell_type": "code",
   "execution_count": 65,
   "metadata": {},
   "outputs": [
    {
     "name": "stdout",
     "output_type": "stream",
     "text": [
      "[3.1 3.2]\n",
      "[0. 0.]\n",
      "[0 1]\n"
     ]
    }
   ],
   "source": [
    "def cost(states, shock):\n",
    "    return THETA*states + shock\n",
    "\n",
    "\n",
    "def profit(contract, bids, states, shock):\n",
    "    return contract*( bids< np.min(bids) )*(bids - cost(states,shock))  \n",
    "\n",
    "\n",
    "def backlog(contract, bids, states):\n",
    "    return contract*(  bids< np.min(bids) ) + states\n",
    "\n",
    "\n",
    "print cost(np.array([1,2]),np.array([2,1]))\n",
    "print profit(1,np.array([4,5]),np.array([0,1]),np.array([1,2]))\n",
    "print backlog(1,np.array([4,5]),np.array([0,1]))"
   ]
  },
  {
   "cell_type": "code",
   "execution_count": 67,
   "metadata": {},
   "outputs": [
    {
     "name": "stdout",
     "output_type": "stream",
     "text": [
      "[3.1 3.2]\n",
      "-0.10000000000000009\n",
      "2\n"
     ]
    }
   ],
   "source": [
    "def cost(states, shock):\n",
    "    \"\"\" states are all states, the shock is just an integer\"\"\"\n",
    "    return THETA*states + shock\n",
    "\n",
    "\n",
    "def profit(contract, my_bid, other_bids, state, shock):\n",
    "    \"\"\"this returns the same dimension as my bid\n",
    "    \n",
    "    will need to tile bids if evaluating multiple at once\"\"\"\n",
    "    return contract*( my_bid < np.min(other_bids) )*( my_bid - cost(state,shock) )  \n",
    "\n",
    "\n",
    "def backlog(contract, my_bid, other_bids, state):\n",
    "    \"\"\"this returns the same dimension as my bid\n",
    "    \n",
    "     will need to tile bids if evaluating multiple at once\"\"\"\n",
    "    return np.minimum( np.max(STATES), contract*(  my_bid < np.min(other_bids) ) + state )\n",
    "\n",
    "\n",
    "print cost(np.array([1,2]),np.array([2,1]))\n",
    "print profit(1,2,np.array([4,5]),1,1)\n",
    "print backlog(1,2,np.array([4,5]),1)"
   ]
  },
  {
   "cell_type": "code",
   "execution_count": 90,
   "metadata": {},
   "outputs": [
    {
     "data": {
      "text/plain": [
       "(array([[6, 6, 6, 6, 6, 6, 6],\n",
       "        [6, 6, 6, 6, 6, 6, 6],\n",
       "        [6, 6, 6, 6, 6, 6, 6],\n",
       "        [6, 6, 6, 6, 6, 6, 6],\n",
       "        [6, 6, 6, 6, 6, 6, 6],\n",
       "        [7, 7, 7, 7, 7, 7, 7],\n",
       "        [7, 7, 7, 7, 7, 7, 7],\n",
       "        [7, 7, 7, 7, 7, 7, 7],\n",
       "        [7, 7, 7, 7, 7, 7, 7],\n",
       "        [7, 7, 7, 7, 7, 7, 7]]), array([[4.9, 4.9, 4.9, 4.9, 4.9, 4.9, 4.9],\n",
       "        [3.8, 3.8, 3.8, 3.8, 3.8, 3.8, 3.8],\n",
       "        [2.7, 2.7, 2.7, 2.7, 2.7, 2.7, 2.7],\n",
       "        [1.6, 1.6, 1.6, 1.6, 1.6, 1.6, 1.6],\n",
       "        [2.3, 2.3, 2.3, 2.3, 2.3, 2.3, 2.3],\n",
       "        [1.8, 1.8, 1.8, 1.8, 1.8, 1.8, 1.8],\n",
       "        [1.8, 1.8, 1.8, 1.8, 1.8, 1.8, 1.8],\n",
       "        [1.8, 1.8, 1.8, 1.8, 1.8, 1.8, 1.8],\n",
       "        [1.8, 1.8, 1.8, 1.8, 1.8, 1.8, 1.8],\n",
       "        [1.8, 1.8, 1.8, 1.8, 1.8, 1.8, 1.8]]))"
      ]
     },
     "execution_count": 90,
     "metadata": {},
     "output_type": "execute_result"
    }
   ],
   "source": [
    "def operator(initial_values, other_bids):\n",
    "    \"\"\"Calculate the value of the \n",
    "    Bellman operator in the value function\n",
    "    \n",
    "    update the value function and the policy function\n",
    "    for player i, given the other players value and policy\n",
    "    functions\"\"\"\n",
    "    \n",
    "    #initialize contract and state to 0\n",
    "    contract = 1\n",
    "    shock = 0\n",
    "    \n",
    "    #possible states for just one player\n",
    "    states = STATES.reshape((1,len(STATES),1))\n",
    "    states = np.tile(states, (len(BIDS),1,N))\n",
    "    \n",
    "    #possible bids for all states, again 1 player\n",
    "    bids = BIDS.reshape((len(BIDS), 1, 1))\n",
    "    bids = np.tile(bids,(1,len(STATES),N))\n",
    "    \n",
    "    #interpolate for easy access to value function\n",
    "    value = interp1d(STATES,initial_values)\n",
    "    \n",
    "    #calculate value of each bid and take max in each state\n",
    "    v_next = profit(contract,bids,other_bids,states,shock)\n",
    "    v_next = v_next + BETA*value(backlog(contract, bids, other_bids, states))\n",
    "    \n",
    "    #find maximum and argmax\n",
    "    policy = np.argmax(v_next,axis=0)\n",
    "    policy = BIDS[policy]\n",
    "    v_next = np.max(v_next,axis=0)\n",
    "    \n",
    "    return policy, v_next\n",
    "\n",
    "\n",
    "\n",
    "#initialize policy as something else\n",
    "foo_policy = lambda state: 5\n",
    "foo_bids = [foo_policy]*(N-1)\n",
    "\n",
    "v0 = np.concatenate((np.zeros(5),2*np.ones(5)))\n",
    "operator(v0, 6 + np.ones(N-1) )"
   ]
  },
  {
   "cell_type": "code",
   "execution_count": 83,
   "metadata": {},
   "outputs": [
    {
     "data": {
      "text/plain": [
       "array([2, 3])"
      ]
     },
     "execution_count": 83,
     "metadata": {},
     "output_type": "execute_result"
    }
   ],
   "source": []
  },
  {
   "cell_type": "code",
   "execution_count": null,
   "metadata": {},
   "outputs": [],
   "source": [
    "def nash_equilibrium(value_function):\n",
    "    \"\"\"given the value function \n",
    "    find the symmetric nash equilibrium\n",
    "    in each state\"\"\""
   ]
  },
  {
   "cell_type": "code",
   "execution_count": null,
   "metadata": {},
   "outputs": [],
   "source": [
    "def  value_function(initial_value, error, maxiter):\n",
    "    \"\"\"calculate the value function in a symmetric\n",
    "        markov perfect equilibria\"\"\"\n",
    "    \n",
    "    #initialize loop variables\n",
    "    v0 = np.ones(len(states))\n",
    "    v_next = operator(a, theta1, cost, v0, v1)\n",
    "    \n",
    "    while  maxiter >= 0 and ( \n",
    "            np.abs(v0 - v0_next ).max() > error\n",
    "           or np.abs(v1 - v1_next ).max()  > error ):\n",
    "        \n",
    "        #iterate loop variables for each player\n",
    "        for i in range(N):\n",
    "            v0, v1 = v0_next, v1_next\n",
    "            v0_next, v1_next = operator(a, theta1, cost, v0, v1)\n",
    "            maxiter = maxiter -1\n",
    "\n",
    "    return  value"
   ]
  }
 ],
 "metadata": {
  "kernelspec": {
   "display_name": "Python 2",
   "language": "python",
   "name": "python2"
  },
  "language_info": {
   "codemirror_mode": {
    "name": "ipython",
    "version": 2
   },
   "file_extension": ".py",
   "mimetype": "text/x-python",
   "name": "python",
   "nbconvert_exporter": "python",
   "pygments_lexer": "ipython2",
   "version": "2.7.15"
  }
 },
 "nbformat": 4,
 "nbformat_minor": 2
}
