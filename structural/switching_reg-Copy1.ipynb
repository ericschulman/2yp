{
 "cells": [
  {
   "cell_type": "code",
   "execution_count": 3,
   "metadata": {},
   "outputs": [],
   "source": [
    "import pandas as pd\n",
    "import math\n",
    "import numpy as np\n",
    "import statsmodels.api as sm\n",
    "from statsmodels.base.model import GenericLikelihoodModel\n",
    "import matplotlib.pyplot as plt\n",
    "from scipy import stats\n",
    "import warnings\n",
    "\n",
    "from statsmodels.tsa.regime_switching.markov_autoregression import MarkovAutoregression\n",
    "from statsmodels.tsa.regime_switching.markov_regression import MarkovRegression"
   ]
  },
  {
   "cell_type": "code",
   "execution_count": 4,
   "metadata": {},
   "outputs": [],
   "source": [
    "#generate some fake data\n",
    "\n",
    "n = 1000\n",
    "beta01, beta11 = 5,-3\n",
    "beta02, beta12 = 2, 4\n",
    "\n",
    "#set up regression mixture\n",
    "x1 = np.random.uniform(0, 10, size=400)\n",
    "x2 = np.random.uniform(0, 10, size=600)\n",
    "\n",
    "y1 = beta01 + beta11*x1 + np.random.normal(scale=4.0, size=400)\n",
    "y2 = beta02 + beta12*x2 + np.random.normal(scale=1.0,size=600)\n",
    "\n",
    "x = np.concatenate([x1, x2])\n",
    "y = np.concatenate([y1, y2])\n",
    "\n",
    "\n",
    "#set up 2 component mixture\n",
    "a1 = np.random.normal(0, 1, size=600)\n",
    "a2 = np.random.normal(5, 3, size=400)\n",
    "a = np.concatenate([a1,a2])"
   ]
  },
  {
   "cell_type": "code",
   "execution_count": 38,
   "metadata": {},
   "outputs": [
    {
     "name": "stderr",
     "output_type": "stream",
     "text": [
      "/home/erichschulman/anaconda2/lib/python2.7/site-packages/ipykernel_launcher.py:48: RuntimeWarning: divide by zero encountered in log\n"
     ]
    },
    {
     "name": "stdout",
     "output_type": "stream",
     "text": [
      "Warning: Maximum number of iterations has been exceeded.\n",
      "                          SwitchingRegression Results                          \n",
      "===============================================================================\n",
      "Dep. Variable:                       y   Log-Likelihood:                -4342.3\n",
      "Model:             SwitchingRegression   AIC:                             8689.\n",
      "Method:             Maximum Likelihood   BIC:                             8698.\n",
      "Date:                 Fri, 03 May 2019                                         \n",
      "Time:                         17:13:35                                         \n",
      "No. Observations:                 1000                                         \n",
      "Df Residuals:                      998                                         \n",
      "Df Model:                            1                                         \n",
      "==============================================================================\n",
      "                 coef    std err          z      P>|z|      [0.025      0.975]\n",
      "------------------------------------------------------------------------------\n",
      "const0       -14.5552        nan        nan        nan         nan         nan\n",
      "x10           -7.0570        nan        nan        nan         nan         nan\n",
      "sigma0         3.5037        nan        nan        nan         nan         nan\n",
      "const1         2.5639        nan        nan        nan         nan         nan\n",
      "x11            1.4148        nan        nan        nan         nan         nan\n",
      "sigma1        18.6820        nan        nan        nan         nan         nan\n",
      "lambda0       -0.6680        nan        nan        nan         nan         nan\n",
      "lambda1        8.3870        nan        nan        nan         nan         nan\n",
      "==============================================================================\n"
     ]
    },
    {
     "name": "stderr",
     "output_type": "stream",
     "text": [
      "/home/erichschulman/anaconda2/lib/python2.7/site-packages/statsmodels/base/model.py:488: HessianInversionWarning: Inverting hessian failed, no bse or cov_params available\n",
      "  'available', HessianInversionWarning)\n",
      "/home/erichschulman/anaconda2/lib/python2.7/site-packages/statsmodels/base/model.py:508: ConvergenceWarning: Maximum Likelihood optimization failed to converge. Check mle_retvals\n",
      "  \"Check mle_retvals\", ConvergenceWarning)\n"
     ]
    }
   ],
   "source": [
    "class SwitchingRegression(GenericLikelihoodModel):\n",
    "    \n",
    "    def __init__(self, endog, exog, ncomp=2, switch_var=True):\n",
    "        super(SwitchingRegression, self).__init__(endog, exog)\n",
    "        \n",
    "        nobs, k = self.exog.shape\n",
    "        self.ncomp = ncomp\n",
    "        self.nparams = (k+2)*ncomp\n",
    "        \n",
    "        #adjust param names\n",
    "        param_names = []\n",
    "        \n",
    "        for comp in range(ncomp):\n",
    "            for name in self.data.xnames:\n",
    "                param_names.append(name+str(comp))\n",
    "            param_names.append('sigma'+str(comp))\n",
    "            \n",
    "        for comp in range(ncomp):\n",
    "            param_names.append('lambda'+str(comp))\n",
    "        \n",
    "        self.data.xnames = param_names\n",
    "        \n",
    "        \n",
    "    \n",
    "    def nloglikeobs(self, params):\n",
    "        \"\"\"do maximum likelihood estimation\"\"\"\n",
    "\n",
    "        nobs, k = self.exog.shape\n",
    "        likelihood = []\n",
    "        lambs = params[(k+1)*self.ncomp:]\n",
    "        lambs = np.exp(lambs)/(np.exp(lambs).sum())\n",
    "\n",
    "        for comp in range(self.ncomp):\n",
    "            #get params\n",
    "            comp_params = params[comp*(k+1): (comp+1)*(k+1)]\n",
    "            lamb = lambs[comp]\n",
    "            beta = comp_params[:-1]\n",
    "            sigma = comp_params[-1]\n",
    "            \n",
    "            #calculate likelihood from formula\n",
    "            beta = np.tile(beta,nobs).reshape(nobs,k)\n",
    "            means = (beta*self.exog).sum(axis=1)\n",
    "            comp_like = stats.norm.pdf(self.endog, loc=means, scale=sigma )\n",
    "            comp_like = lamb*comp_like\n",
    "            likelihood.append(comp_like)\n",
    "\n",
    "        likelihood = np.array(likelihood).sum(axis=0)\n",
    "        return -np.log(likelihood).sum()\n",
    "\n",
    "\n",
    "model = SwitchingRegression(y, sm.add_constant(x))\n",
    "result = model.fit(start_params = np.random.uniform(low=.5,high=1.,size=(2+2)*2))\n",
    "print result.summary()"
   ]
  },
  {
   "cell_type": "code",
   "execution_count": 10,
   "metadata": {},
   "outputs": [
    {
     "name": "stdout",
     "output_type": "stream",
     "text": [
      "Index([u'VENDOR', u'WW', u'WC', u'LFW', u'LFC', u'WIN', u'SYSTEM', u'YEAR',\n",
      "       u'MONTH', u'DAY', u'FMOZONE', u'ESC', u'COOLER', u'QLFC', u'QLFW',\n",
      "       u'QWW', u'QWC', u'ESTQTY', u'DEL', u'MILES', u'NUMSCHL', u'NUMWIN',\n",
      "       u'POPUL', u'ADJPOP', u'NUM', u'GAS', u'FMO', u'INC'],\n",
      "      dtype='object')\n",
      "                          SwitchingRegression Results                          \n",
      "===============================================================================\n",
      "Dep. Variable:                      WW   Log-Likelihood:                 7580.3\n",
      "Model:             SwitchingRegression   AIC:                        -1.515e+04\n",
      "Method:             Maximum Likelihood   BIC:                        -1.514e+04\n",
      "Date:                 Sat, 27 Apr 2019                                         \n",
      "Time:                         13:14:51                                         \n",
      "No. Observations:                 4042                                         \n",
      "Df Residuals:                     4039                                         \n",
      "Df Model:                            2                                         \n",
      "==============================================================================\n",
      "                 coef    std err          z      P>|z|      [0.025      0.975]\n",
      "------------------------------------------------------------------------------\n",
      "const0        -1.9274        nan        nan        nan         nan         nan\n",
      "FMO0           0.0533        nan        nan        nan         nan         nan\n",
      "INC0          -0.0063        nan        nan        nan         nan         nan\n",
      "sigma0         0.0817        nan        nan        nan         nan         nan\n",
      "const1         3.6154        nan        nan        nan         nan         nan\n",
      "FMO1          -0.7590        nan        nan        nan         nan         nan\n",
      "INC1          -2.2449        nan        nan        nan         nan         nan\n",
      "sigma1         5.6034        nan        nan        nan         nan         nan\n",
      "==============================================================================\n"
     ]
    }
   ],
   "source": [
    "data = pd.read_csv('data/milk.csv')\n",
    "print data.columns\n",
    "\n",
    "reg1 = sm.add_constant(data[['WW','FMO','INC']]).dropna()\n",
    "reg1 = reg1[reg1['WW']<.4]\n",
    "reg1[['WW','FMO']] = np.log(reg1[['WW','FMO']])\n",
    "\n",
    "\n",
    "model = SwitchingRegression(reg1['WW'],reg1[['const','FMO']])\n",
    "result = model.fit()\n",
    "print result.summary()"
   ]
  },
  {
   "cell_type": "code",
   "execution_count": null,
   "metadata": {},
   "outputs": [],
   "source": []
  },
  {
   "cell_type": "code",
   "execution_count": null,
   "metadata": {},
   "outputs": [],
   "source": []
  }
 ],
 "metadata": {
  "kernelspec": {
   "display_name": "Python 2",
   "language": "python",
   "name": "python2"
  },
  "language_info": {
   "codemirror_mode": {
    "name": "ipython",
    "version": 2
   },
   "file_extension": ".py",
   "mimetype": "text/x-python",
   "name": "python",
   "nbconvert_exporter": "python",
   "pygments_lexer": "ipython2",
   "version": "2.7.15"
  }
 },
 "nbformat": 4,
 "nbformat_minor": 2
}
