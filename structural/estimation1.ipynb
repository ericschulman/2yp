{
 "cells": [
  {
   "cell_type": "code",
   "execution_count": 1,
   "metadata": {},
   "outputs": [],
   "source": [
    "import pandas as pd\n",
    "import math\n",
    "import numpy as np\n",
    "import statsmodels.api as sm\n",
    "import matplotlib.pyplot as plt\n",
    "from scipy import stats\n",
    "\n",
    "import datetime\n",
    "\n",
    "from statsmodels.tsa.regime_switching.markov_autoregression import MarkovAutoregression\n",
    "from statsmodels.tsa.regime_switching.markov_regression import MarkovRegression"
   ]
  },
  {
   "cell_type": "code",
   "execution_count": 2,
   "metadata": {},
   "outputs": [
    {
     "name": "stdout",
     "output_type": "stream",
     "text": [
      "Index([u'VENDOR', u'WW', u'WC', u'LFW', u'LFC', u'WIN', u'SYSTEM', u'YEAR',\n",
      "       u'MONTH', u'DAY', u'FMOZONE', u'ESC', u'COOLER', u'QLFC', u'QLFW',\n",
      "       u'QWW', u'QWC', u'ESTQTY', u'DEL', u'MILES', u'NUMSCHL', u'NUMWIN',\n",
      "       u'POPUL', u'ADJPOP', u'NUM', u'GAS', u'FMO', u'INC'],\n",
      "      dtype='object')\n"
     ]
    }
   ],
   "source": [
    "#load data\n",
    "data = pd.read_csv('data/milk.csv')\n",
    "print data.columns\n",
    "\n",
    "#include incumbent to indentify things"
   ]
  },
  {
   "cell_type": "code",
   "execution_count": 7,
   "metadata": {},
   "outputs": [
    {
     "name": "stdout",
     "output_type": "stream",
     "text": [
      "                            OLS Regression Results                            \n",
      "==============================================================================\n",
      "Dep. Variable:                     WW   R-squared:                       0.098\n",
      "Model:                            OLS   Adj. R-squared:                  0.097\n",
      "Method:                 Least Squares   F-statistic:                     75.08\n",
      "Date:                Sat, 27 Apr 2019   Prob (F-statistic):           1.72e-60\n",
      "Time:                        16:13:52   Log-Likelihood:                 2714.5\n",
      "No. Observations:                2764   AIC:                            -5419.\n",
      "Df Residuals:                    2759   BIC:                            -5389.\n",
      "Df Model:                           4                                         \n",
      "Covariance Type:            nonrobust                                         \n",
      "==============================================================================\n",
      "                 coef    std err          t      P>|t|      [0.025      0.975]\n",
      "------------------------------------------------------------------------------\n",
      "const         -2.8564      0.079    -36.192      0.000      -3.011      -2.702\n",
      "FMO            0.3953      0.030     13.339      0.000       0.337       0.453\n",
      "INC           -0.0044      0.006     -0.681      0.496      -0.017       0.008\n",
      "ESC            0.0183      0.004      4.424      0.000       0.010       0.026\n",
      "COOLER         0.0205      0.004      5.074      0.000       0.013       0.028\n",
      "==============================================================================\n",
      "Omnibus:                      372.065   Durbin-Watson:                   1.107\n",
      "Prob(Omnibus):                  0.000   Jarque-Bera (JB):             2416.821\n",
      "Skew:                          -0.454   Prob(JB):                         0.00\n",
      "Kurtosis:                       7.490   Cond. No.                         143.\n",
      "==============================================================================\n",
      "\n",
      "Warnings:\n",
      "[1] Standard Errors assume that the covariance matrix of the errors is correctly specified.\n",
      "\\begin{center}\n",
      "\\begin{tabular}{lclc}\n",
      "\\toprule\n",
      "\\textbf{Dep. Variable:}    &        WW        & \\textbf{  R-squared:         } &     0.098   \\\\\n",
      "\\textbf{Model:}            &       OLS        & \\textbf{  Adj. R-squared:    } &     0.097   \\\\\n",
      "\\textbf{Method:}           &  Least Squares   & \\textbf{  F-statistic:       } &     75.08   \\\\\n",
      "\\textbf{Date:}             & Sat, 27 Apr 2019 & \\textbf{  Prob (F-statistic):} &  1.72e-60   \\\\\n",
      "\\textbf{Time:}             &     16:13:52     & \\textbf{  Log-Likelihood:    } &    2714.5   \\\\\n",
      "\\textbf{No. Observations:} &        2764      & \\textbf{  AIC:               } &    -5419.   \\\\\n",
      "\\textbf{Df Residuals:}     &        2759      & \\textbf{  BIC:               } &    -5389.   \\\\\n",
      "\\textbf{Df Model:}         &           4      & \\textbf{                     } &             \\\\\n",
      "\\bottomrule\n",
      "\\end{tabular}\n",
      "\\begin{tabular}{lcccccc}\n",
      "                & \\textbf{coef} & \\textbf{std err} & \\textbf{t} & \\textbf{P$>$$|$t$|$} & \\textbf{[0.025} & \\textbf{0.975]}  \\\\\n",
      "\\midrule\n",
      "\\textbf{const}  &      -2.8564  &        0.079     &   -36.192  &         0.000        &       -3.011    &       -2.702     \\\\\n",
      "\\textbf{FMO}    &       0.3953  &        0.030     &    13.339  &         0.000        &        0.337    &        0.453     \\\\\n",
      "\\textbf{INC}    &      -0.0044  &        0.006     &    -0.681  &         0.496        &       -0.017    &        0.008     \\\\\n",
      "\\textbf{ESC}    &       0.0183  &        0.004     &     4.424  &         0.000        &        0.010    &        0.026     \\\\\n",
      "\\textbf{COOLER} &       0.0205  &        0.004     &     5.074  &         0.000        &        0.013    &        0.028     \\\\\n",
      "\\bottomrule\n",
      "\\end{tabular}\n",
      "\\begin{tabular}{lclc}\n",
      "\\textbf{Omnibus:}       & 372.065 & \\textbf{  Durbin-Watson:     } &    1.107  \\\\\n",
      "\\textbf{Prob(Omnibus):} &   0.000 & \\textbf{  Jarque-Bera (JB):  } & 2416.821  \\\\\n",
      "\\textbf{Skew:}          &  -0.454 & \\textbf{  Prob(JB):          } &     0.00  \\\\\n",
      "\\textbf{Kurtosis:}      &   7.490 & \\textbf{  Cond. No.          } &     143.  \\\\\n",
      "\\bottomrule\n",
      "\\end{tabular}\n",
      "%\\caption{OLS Regression Results}\n",
      "\\end{center}\n",
      "\n",
      "Warnings: \\newline\n",
      " [1] Standard Errors assume that the covariance matrix of the errors is correctly specified.\n"
     ]
    }
   ],
   "source": [
    "reg1 = data[['WW','FMO','INC','ESC','ESTQTY','DEL','COOLER']].dropna()\n",
    "reg1 = sm.add_constant(reg1)\n",
    "reg1 = reg1[reg1['WW']<.4]\n",
    "\n",
    "reg1[['WW','FMO']] = np.log(reg1[['WW','FMO']])\n",
    "model = sm.OLS(reg1['WW'],reg1[['const','FMO','INC','ESC','COOLER']])\n",
    "result = model.fit()\n",
    "print result.summary()\n",
    "print result.summary().as_latex()"
   ]
  },
  {
   "cell_type": "code",
   "execution_count": 6,
   "metadata": {},
   "outputs": [
    {
     "name": "stderr",
     "output_type": "stream",
     "text": [
      "/home/erichschulman/anaconda2/lib/python2.7/site-packages/statsmodels/tsa/base/tsa_model.py:221: ValueWarning: An unsupported index was provided and will be ignored when e.g. forecasting.\n",
      "  ' ignored when e.g. forecasting.', ValueWarning)\n"
     ]
    },
    {
     "name": "stdout",
     "output_type": "stream",
     "text": [
      "                        Markov Switching Model Results                        \n",
      "==============================================================================\n",
      "Dep. Variable:                     WW   No. Observations:                 2764\n",
      "Model:               MarkovRegression   Log Likelihood                2756.871\n",
      "Date:                Sat, 27 Apr 2019   AIC                          -5495.742\n",
      "Time:                        15:54:15   BIC                          -5442.422\n",
      "Sample:                             0   HQIC                         -5476.483\n",
      "                               - 2764                                         \n",
      "Covariance Type:               approx                                         \n",
      "                             Regime 0 parameters                              \n",
      "==============================================================================\n",
      "                 coef    std err          z      P>|z|      [0.025      0.975]\n",
      "------------------------------------------------------------------------------\n",
      "INC            0.4644      0.047      9.871      0.000       0.372       0.557\n",
      "                             Regime 1 parameters                              \n",
      "==============================================================================\n",
      "                 coef    std err          z      P>|z|      [0.025      0.975]\n",
      "------------------------------------------------------------------------------\n",
      "INC           -0.0133      0.006     -2.095      0.036      -0.026      -0.001\n",
      "                           Non-switching parameters                           \n",
      "==============================================================================\n",
      "                 coef    std err          z      P>|z|      [0.025      0.975]\n",
      "------------------------------------------------------------------------------\n",
      "sigma2         0.0079      0.000     37.168      0.000       0.007       0.008\n",
      "const         -2.8331      0.077    -36.649      0.000      -2.985      -2.682\n",
      "FMO            0.3864      0.029     13.312      0.000       0.329       0.443\n",
      "ESC            0.0186      0.004      4.593      0.000       0.011       0.026\n",
      "COOLER         0.0213      0.004      5.368      0.000       0.013       0.029\n",
      "                         Regime transition parameters                         \n",
      "==============================================================================\n",
      "                 coef    std err          z      P>|z|      [0.025      0.975]\n",
      "------------------------------------------------------------------------------\n",
      "p[0->0]        0.5403      0.262      2.065      0.039       0.027       1.053\n",
      "p[1->0]        0.0075      0.005      1.361      0.173      -0.003       0.018\n",
      "==============================================================================\n",
      "\n",
      "Warnings:\n",
      "[1] Covariance matrix calculated using numerical (complex-step) differentiation.\n"
     ]
    }
   ],
   "source": [
    "model = MarkovRegression(endog=reg1['WW'], exog=reg1[['const','FMO','INC','ESC','COOLER']],\n",
    "                         k_regimes=2, order=0, trend='nc',switching_exog=[False, False, True, False, False])\n",
    "result = model.fit()\n",
    "print result.summary()"
   ]
  },
  {
   "cell_type": "code",
   "execution_count": null,
   "metadata": {},
   "outputs": [],
   "source": [
    "#ESC, COOLER ,MILES, GAS, DEL, ESTQTY\n",
    "reg1 = data[['WW', 'FMO','ESC', 'NUMSCHL','MILES','COOLER', 'GAS','DEL','ESTQTY']].dropna()\n",
    "\n",
    "#make a little better\n",
    "reg1['NUMSCHL'] = np.maximum(reg1['NUMSCHL'],1)\n",
    "reg1['NOSTOP'] = reg1['NUMSCHL']*reg1['DEL']\n",
    "reg1['MILES'] =reg1['MILES']+1\n",
    "reg1 = reg1[reg1['WW']<=.3]\n",
    "\n",
    "#log scale\n",
    "reg1[['WW', 'FMO', 'MILES', 'GAS','NOSTOP', 'ESTQTY']] = np.log(\n",
    "                                            reg1[['WW', 'FMO', 'MILES', 'GAS', 'NOSTOP', 'ESTQTY']])\n",
    "\n",
    "print reg1.mean()\n"
   ]
  }
 ],
 "metadata": {
  "kernelspec": {
   "display_name": "Python 2",
   "language": "python",
   "name": "python2"
  },
  "language_info": {
   "codemirror_mode": {
    "name": "ipython",
    "version": 2
   },
   "file_extension": ".py",
   "mimetype": "text/x-python",
   "name": "python",
   "nbconvert_exporter": "python",
   "pygments_lexer": "ipython2",
   "version": "2.7.15"
  }
 },
 "nbformat": 4,
 "nbformat_minor": 2
}
