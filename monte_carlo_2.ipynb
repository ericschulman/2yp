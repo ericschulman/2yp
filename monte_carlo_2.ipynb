{
 "cells": [
  {
   "cell_type": "code",
   "execution_count": 51,
   "metadata": {},
   "outputs": [],
   "source": [
    "import numpy as np\n",
    "import pandas as pd\n",
    "import matplotlib.pyplot as plt\n",
    "import statsmodels.api as sm"
   ]
  },
  {
   "cell_type": "code",
   "execution_count": 52,
   "metadata": {},
   "outputs": [],
   "source": [
    "#Initialize global variables\n",
    "NOBS = 4000\n",
    "T = 5\n",
    "\n",
    "#Strategy parameters\n",
    "GAMMA = 1.\n",
    "RHO = 4.\n",
    "SHOCK_VAR = 1.\n",
    "\n",
    "#strategies\n",
    "eq0 = lambda ( (a1,a2) ): np.array( [GAMMA * a2 , GAMMA *a1] ) \n",
    "eq1 = lambda ( (a1,a2) ) : np.tile(np.array( [[RHO], [RHO]] ) ,(1, NOBS)) \n",
    "\n",
    "#Initial history e\n",
    "a0 = np.tile(np.array([[8.],[10.]]),(1, NOBS))"
   ]
  },
  {
   "cell_type": "code",
   "execution_count": 53,
   "metadata": {},
   "outputs": [],
   "source": [
    "#initial omitted variables\n",
    "shock = np.random.normal(0,SHOCK_VAR,size=(T,NOBS))\n",
    "\n",
    "#initialize the sunspot\n",
    "sunspot = np.random.choice([1,0],size=NOBS)"
   ]
  },
  {
   "cell_type": "code",
   "execution_count": 54,
   "metadata": {},
   "outputs": [],
   "source": [
    "data = [a0]\n",
    "index = np.argmax(sunspot<1)\n",
    "\n",
    "for t in range(T):\n",
    "    \n",
    "    eq0_t = eq0(data[t]) + shock[t]\n",
    "    eq1_t = eq1(data[t]) + shock[t]\n",
    "    eq_t = np.array([eq0_t,eq1_t])\n",
    "    eq_t = eq_t[sunspot,:,index].transpose()   \n",
    "    data.append(eq_t)\n",
    "    \n",
    "data = np.array(data)"
   ]
  },
  {
   "cell_type": "code",
   "execution_count": 55,
   "metadata": {},
   "outputs": [],
   "source": [
    "#format data for plotting/regrssion\n",
    "a1_obs = data[1:,0,:].transpose().reshape(NOBS*(T))\n",
    "a2_obs = data[1:,1,:].transpose().reshape(NOBS*(T))\n",
    "\n",
    "market = np.array([i for i in range(1,NOBS+1) for t in range(1,T+1)])\n",
    "\n",
    "time_period = np.array(range(1,T+1))\n",
    "time_period = np.tile(time_period,NOBS)"
   ]
  },
  {
   "cell_type": "code",
   "execution_count": 56,
   "metadata": {},
   "outputs": [
    {
     "data": {
      "image/png": "[encoded data removed]",
      "text/plain": [
       "<Figure size 432x288 with 1 Axes>"
      ]
     },
     "metadata": {},
     "output_type": "display_data"
    }
   ],
   "source": [
    "plt.plot(time_period,a1_obs,color ='r',marker=\"o\",linestyle=\"\")\n",
    "plt.xlabel('Price')\n",
    "plt.ylabel('Time')\n",
    "plt.savefig('plots/a1.png')"
   ]
  },
  {
   "cell_type": "code",
   "execution_count": 57,
   "metadata": {},
   "outputs": [
    {
     "data": {
      "image/png": "[encoded data removed]",
      "text/plain": [
       "<Figure size 432x288 with 1 Axes>"
      ]
     },
     "metadata": {},
     "output_type": "display_data"
    }
   ],
   "source": [
    "plt.plot(time_period,a2_obs,color ='r',marker=\"o\",linestyle=\"\")\n",
    "plt.xlabel('Price')\n",
    "plt.ylabel('Time')\n",
    "plt.savefig('plots/a2.png')"
   ]
  },
  {
   "cell_type": "code",
   "execution_count": 58,
   "metadata": {},
   "outputs": [],
   "source": [
    "#set up dataframe\n",
    "df = np.array([market,a1_obs,a2_obs,time_period]).transpose()\n",
    "df = pd.DataFrame(df,columns=['market','price1','price2','time'])\n",
    "\n",
    "#add lag\n",
    "shift_df = df.copy()\n",
    "shift_df['time'] = df['time'] + 1\n",
    "df = df.merge(shift_df,how='left',on=['market','time'],suffixes=['','_lag'])\n",
    "df = df.dropna()"
   ]
  },
  {
   "cell_type": "code",
   "execution_count": 59,
   "metadata": {},
   "outputs": [
    {
     "name": "stdout",
     "output_type": "stream",
     "text": [
      "                            OLS Regression Results                            \n",
      "==============================================================================\n",
      "Dep. Variable:                 price1   R-squared:                       0.693\n",
      "Model:                            OLS   Adj. R-squared:                  0.693\n",
      "Method:                 Least Squares   F-statistic:                 3.605e+04\n",
      "Date:                Wed, 05 Dec 2018   Prob (F-statistic):               0.00\n",
      "Time:                        13:59:43   Log-Likelihood:                -29800.\n",
      "No. Observations:               16000   AIC:                         5.960e+04\n",
      "Df Residuals:                   15998   BIC:                         5.962e+04\n",
      "Df Model:                           1                                         \n",
      "Covariance Type:            nonrobust                                         \n",
      "==============================================================================\n",
      "                 coef    std err          t      P>|t|      [0.025      0.975]\n",
      "------------------------------------------------------------------------------\n",
      "const          0.6709      0.033     20.223      0.000       0.606       0.736\n",
      "price2_lag     0.8719      0.005    189.856      0.000       0.863       0.881\n",
      "==============================================================================\n",
      "Omnibus:                      237.830   Durbin-Watson:                   2.003\n",
      "Prob(Omnibus):                  0.000   Jarque-Bera (JB):             1664.961\n",
      "Skew:                          -0.305   Prob(JB):                         0.00\n",
      "Kurtosis:                       1.542   Cond. No.                         19.8\n",
      "==============================================================================\n",
      "\n",
      "Warnings:\n",
      "[1] Standard Errors assume that the covariance matrix of the errors is correctly specified.\n"
     ]
    }
   ],
   "source": [
    "model = sm.OLS(df['price1'], sm.add_constant(df['price2_lag']) )\n",
    "fit = model.fit()\n",
    "print fit.summary()"
   ]
  },
  {
   "cell_type": "code",
   "execution_count": 60,
   "metadata": {},
   "outputs": [
    {
     "data": {
      "image/png": "[encoded data removed]",
      "text/plain": [
       "<Figure size 432x288 with 1 Axes>"
      ]
     },
     "metadata": {},
     "output_type": "display_data"
    }
   ],
   "source": [
    "plt.hist(fit.resid)\n",
    "plt.xlabel('OLS Residual')\n",
    "plt.ylabel('Observations')\n",
    "plt.savefig('plots/hist.png')"
   ]
  },
  {
   "cell_type": "code",
   "execution_count": 61,
   "metadata": {},
   "outputs": [
    {
     "data": {
      "text/plain": [
       "<matplotlib.axes._subplots.AxesSubplot at 0x7f3a5a06bad0>"
      ]
     },
     "execution_count": 61,
     "metadata": {},
     "output_type": "execute_result"
    },
    {
     "data": {
      "image/png": "[encoded data removed]",
      "text/plain": [
       "<Figure size 432x288 with 1 Axes>"
      ]
     },
     "metadata": {},
     "output_type": "display_data"
    }
   ],
   "source": [
    "pd.DataFrame(fit.resid).plot(kind='density')"
   ]
  },
  {
   "cell_type": "code",
   "execution_count": null,
   "metadata": {},
   "outputs": [],
   "source": []
  },
  {
   "cell_type": "code",
   "execution_count": null,
   "metadata": {},
   "outputs": [],
   "source": []
  }
 ],
 "metadata": {
  "kernelspec": {
   "display_name": "Python 2",
   "language": "python",
   "name": "python2"
  },
  "language_info": {
   "codemirror_mode": {
    "name": "ipython",
    "version": 2
   },
   "file_extension": ".py",
   "mimetype": "text/x-python",
   "name": "python",
   "nbconvert_exporter": "python",
   "pygments_lexer": "ipython2",
   "version": "2.7.15"
  }
 },
 "nbformat": 4,
 "nbformat_minor": 2
}
