{
 "cells": [
  {
   "cell_type": "code",
   "execution_count": 12,
   "metadata": {},
   "outputs": [],
   "source": [
    "import numpy as np\n",
    "import pandas as pd\n",
    "import matplotlib.pyplot as plt\n",
    "import statsmodels.api as sm"
   ]
  },
  {
   "cell_type": "code",
   "execution_count": 23,
   "metadata": {},
   "outputs": [],
   "source": [
    "#Initialize global variables\n",
    "NOBS = 100000\n",
    "T = 4\n",
    "\n",
    "#Strategy parameters\n",
    "GAMMA = 1.\n",
    "RHO = 4.\n",
    "SHOCK_VAR = 1.\n",
    "\n",
    "#strategies\n",
    "eq0 = lambda ( (a1,a2) ): np.array( [GAMMA * a2 , GAMMA *a1] ) \n",
    "eq1 = lambda ( (a1,a2) ) : np.tile(np.array( [[RHO], [RHO]] ) ,(1, NOBS)) \n",
    "\n",
    "#Initial history e\n",
    "a0 = np.tile(np.array([[8.],[10.]]),(1, NOBS))"
   ]
  },
  {
   "cell_type": "code",
   "execution_count": 24,
   "metadata": {},
   "outputs": [],
   "source": [
    "#initial omitted variables\n",
    "shock = np.random.normal(0,SHOCK_VAR,size=(T,NOBS))\n",
    "\n",
    "#initialize the sunspot\n",
    "sunspot = np.random.choice([1,0],size=NOBS)"
   ]
  },
  {
   "cell_type": "code",
   "execution_count": 25,
   "metadata": {},
   "outputs": [],
   "source": [
    "data = [a0]\n",
    "index = np.argmax(sunspot<1)\n",
    "\n",
    "for t in range(T):\n",
    "    \n",
    "    eq0_t = eq0(data[t]) + shock[t]\n",
    "    eq1_t = eq1(data[t]) + shock[t]\n",
    "    eq_t = np.array([eq0_t,eq1_t])\n",
    "    eq_t = eq_t[sunspot,:,index].transpose()   \n",
    "    data.append(eq_t)\n",
    "    \n",
    "data = np.array(data)"
   ]
  },
  {
   "cell_type": "code",
   "execution_count": 26,
   "metadata": {},
   "outputs": [],
   "source": [
    "#format data for plotting/regrssion\n",
    "a1_obs = data[1:,0,:].transpose().reshape(NOBS*(T))\n",
    "a2_obs = data[1:,1,:].transpose().reshape(NOBS*(T))\n",
    "\n",
    "market = np.array([i for i in range(1,NOBS+1) for t in range(1,T+1)])\n",
    "\n",
    "time_period = np.array(range(1,T+1))\n",
    "time_period = np.tile(time_period,NOBS)"
   ]
  },
  {
   "cell_type": "code",
   "execution_count": 27,
   "metadata": {},
   "outputs": [
    {
     "data": {
      "image/png": "[encoded data removed]",
      "text/plain": [
       "<Figure size 432x288 with 1 Axes>"
      ]
     },
     "metadata": {},
     "output_type": "display_data"
    }
   ],
   "source": [
    "plt.plot(time_period,a1_obs,color ='r',marker=\"o\",linestyle=\"\")\n",
    "plt.ylabel('Price')\n",
    "plt.xlabel('Time')\n",
    "plt.savefig('plots/a1.png')"
   ]
  },
  {
   "cell_type": "code",
   "execution_count": null,
   "metadata": {},
   "outputs": [],
   "source": [
    "plt.plot(time_period,a2_obs,color ='r',marker=\"o\",linestyle=\"\")\n",
    "plt.ylabel('Price')\n",
    "plt.xlabel('Time')\n",
    "plt.savefig('plots/a2.png')"
   ]
  },
  {
   "cell_type": "code",
   "execution_count": null,
   "metadata": {},
   "outputs": [],
   "source": [
    "#set up dataframe\n",
    "df = np.array([market,a1_obs,a2_obs,time_period]).transpose()\n",
    "df = pd.DataFrame(df,columns=['market','price1','price2','time'])\n",
    "\n",
    "#add lag\n",
    "shift_df = df.copy()\n",
    "shift_df['time'] = df['time'] + 1\n",
    "df = df.merge(shift_df,how='left',on=['market','time'],suffixes=['','_lag'])\n",
    "df = df.dropna()"
   ]
  },
  {
   "cell_type": "code",
   "execution_count": null,
   "metadata": {},
   "outputs": [],
   "source": [
    "model = sm.OLS(df['price1'], sm.add_constant(df['price2_lag']) )\n",
    "fit = model.fit()\n",
    "print fit.summary()"
   ]
  },
  {
   "cell_type": "code",
   "execution_count": null,
   "metadata": {},
   "outputs": [],
   "source": [
    "plt.hist(fit.resid)\n",
    "plt.xlabel('OLS Residual')\n",
    "plt.ylabel('Observations')\n",
    "plt.savefig('plots/hist.png')"
   ]
  },
  {
   "cell_type": "code",
   "execution_count": null,
   "metadata": {},
   "outputs": [],
   "source": [
    "pd.DataFrame(fit.resid).plot(kind='density')"
   ]
  },
  {
   "cell_type": "code",
   "execution_count": null,
   "metadata": {},
   "outputs": [],
   "source": []
  },
  {
   "cell_type": "code",
   "execution_count": null,
   "metadata": {},
   "outputs": [],
   "source": []
  }
 ],
 "metadata": {
  "kernelspec": {
   "display_name": "Python 2",
   "language": "python",
   "name": "python2"
  },
  "language_info": {
   "codemirror_mode": {
    "name": "ipython",
    "version": 2
   },
   "file_extension": ".py",
   "mimetype": "text/x-python",
   "name": "python",
   "nbconvert_exporter": "python",
   "pygments_lexer": "ipython2",
   "version": "2.7.15"
  }
 },
 "nbformat": 4,
 "nbformat_minor": 2
}
