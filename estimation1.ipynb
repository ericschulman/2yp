{
 "cells": [
  {
   "cell_type": "code",
   "execution_count": 1,
   "metadata": {},
   "outputs": [],
   "source": [
    "import pandas as pd\n",
    "import math\n",
    "import numpy as np\n",
    "import statsmodels.api as sm\n",
    "import matplotlib.pyplot as plt\n",
    "from scipy import stats\n",
    "\n",
    "from statsmodels.tsa.regime_switching.markov_autoregression import MarkovAutoregression\n",
    "from statsmodels.tsa.regime_switching.markov_regression import MarkovRegression"
   ]
  },
  {
   "cell_type": "code",
   "execution_count": null,
   "metadata": {},
   "outputs": [],
   "source": [
    "#load data\n",
    "data = pd.read_csv('data/milk.csv')\n",
    "print data.columns"
   ]
  },
  {
   "cell_type": "code",
   "execution_count": null,
   "metadata": {},
   "outputs": [],
   "source": [
    "reg1 = data[['WW','FMO']].dropna()\n",
    "reg1 = reg1[reg1['WW']<.4]\n",
    "reg1 = np.log(reg1)\n",
    "\n",
    "model = Clusters( reg1['WW'] , np.ones((reg1.shape[0],1)) )\n",
    "model.weights = np.array([.3,.7])\n",
    "result = model.fit()\n",
    "print result.summary()"
   ]
  },
  {
   "cell_type": "code",
   "execution_count": null,
   "metadata": {},
   "outputs": [],
   "source": [
    "#ESC, COOLER ,MILES, GAS, DEL, ESTQTY\n",
    "reg1 = data[['WW', 'FMO','ESC', 'NUMSCHL','MILES','COOLER', 'GAS','DEL','ESTQTY']].dropna()\n",
    "\n",
    "#make a little better\n",
    "reg1['NUMSCHL'] = np.maximum(reg1['NUMSCHL'],1)\n",
    "reg1['NOSTOP'] = reg1['NUMSCHL']*reg1['DEL']\n",
    "reg1['MILES'] =reg1['MILES']+1\n",
    "reg1 = reg1[reg1['WW']<=.3]\n",
    "\n",
    "#log scale\n",
    "reg1[['WW', 'FMO', 'MILES', 'GAS','NOSTOP', 'ESTQTY']] = np.log(\n",
    "                                            reg1[['WW', 'FMO', 'MILES', 'GAS', 'NOSTOP', 'ESTQTY']])\n",
    "\n",
    "print reg1.mean()\n",
    "\n"
   ]
  },
  {
   "cell_type": "code",
   "execution_count": null,
   "metadata": {},
   "outputs": [],
   "source": [
    "reg1 = data[['WW','FMO']].dropna()\n",
    "reg1 = reg1[reg1['WW']<.4]\n",
    "reg1 = np.log(reg1)\n",
    "model = sm.OLS(reg1['WW'],sm.add_constant(reg1['FMO']))\n",
    "result = model.fit()\n",
    "print result.summary()"
   ]
  },
  {
   "cell_type": "code",
   "execution_count": null,
   "metadata": {},
   "outputs": [],
   "source": [
    "model = MarkovRegression(endog=y, exog=sm.add_constant(x), k_regimes=2, order=0,\n",
    "                             trend='nc',switching_exog=True, switching_variance=True)\n",
    "result = model.fit()\n",
    "print result.summary()"
   ]
  }
 ],
 "metadata": {
  "kernelspec": {
   "display_name": "Python 2",
   "language": "python",
   "name": "python2"
  },
  "language_info": {
   "codemirror_mode": {
    "name": "ipython",
    "version": 2
   },
   "file_extension": ".py",
   "mimetype": "text/x-python",
   "name": "python",
   "nbconvert_exporter": "python",
   "pygments_lexer": "ipython2",
   "version": "2.7.15"
  }
 },
 "nbformat": 4,
 "nbformat_minor": 2
}
